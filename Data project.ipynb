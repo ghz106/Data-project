{
 "cells": [
  {
   "cell_type": "markdown",
   "id": "c494e226-c028-4a18-bcdc-5f802ebfb173",
   "metadata": {},
   "source": [
    "# Importing the libraries"
   ]
  },
  {
   "cell_type": "code",
   "execution_count": 1,
   "id": "54bb0c9c-e7e7-4ceb-9745-ab4b2bb1766e",
   "metadata": {
    "tags": []
   },
   "outputs": [],
   "source": [
    "#We start off with importing the modules and libraries\n",
    "from pandas_datareader import wb\n",
    "import pandas as pd\n",
    "import matplotlib.pyplot as plt\n",
    "plt.style.use('seaborn-whitegrid')"
   ]
  },
  {
   "cell_type": "markdown",
   "id": "9a697c8f-0367-4fd6-9880-80141442ccf4",
   "metadata": {},
   "source": [
    "# Electricity Production from Renewable Energy (as % of total)"
   ]
  },
  {
   "cell_type": "code",
   "execution_count": 3,
   "id": "5ee27d2a-b770-4da2-9e79-a5224a3ef9e7",
   "metadata": {},
   "outputs": [
    {
     "name": "stderr",
     "output_type": "stream",
     "text": [
      "/Users/lucasbillot/opt/anaconda3/lib/python3.9/site-packages/pandas_datareader/wb.py:592: UserWarning: Non-standard ISO country codes: EUU, NAC, SSA, TLA\n",
      "  warnings.warn(\n"
     ]
    },
    {
     "data": {
      "text/html": [
       "<div>\n",
       "<style scoped>\n",
       "    .dataframe tbody tr th:only-of-type {\n",
       "        vertical-align: middle;\n",
       "    }\n",
       "\n",
       "    .dataframe tbody tr th {\n",
       "        vertical-align: top;\n",
       "    }\n",
       "\n",
       "    .dataframe thead th {\n",
       "        text-align: right;\n",
       "    }\n",
       "</style>\n",
       "<table border=\"1\" class=\"dataframe\">\n",
       "  <thead>\n",
       "    <tr style=\"text-align: right;\">\n",
       "      <th></th>\n",
       "      <th>country</th>\n",
       "      <th>year</th>\n",
       "      <th>elec_prod_from_renewable_energy</th>\n",
       "    </tr>\n",
       "  </thead>\n",
       "  <tbody>\n",
       "    <tr>\n",
       "      <th>40</th>\n",
       "      <td>European Union</td>\n",
       "      <td>1975</td>\n",
       "      <td>0.558944</td>\n",
       "    </tr>\n",
       "    <tr>\n",
       "      <th>39</th>\n",
       "      <td>European Union</td>\n",
       "      <td>1976</td>\n",
       "      <td>0.513907</td>\n",
       "    </tr>\n",
       "    <tr>\n",
       "      <th>38</th>\n",
       "      <td>European Union</td>\n",
       "      <td>1977</td>\n",
       "      <td>0.519714</td>\n",
       "    </tr>\n",
       "    <tr>\n",
       "      <th>37</th>\n",
       "      <td>European Union</td>\n",
       "      <td>1978</td>\n",
       "      <td>0.522394</td>\n",
       "    </tr>\n",
       "    <tr>\n",
       "      <th>36</th>\n",
       "      <td>European Union</td>\n",
       "      <td>1979</td>\n",
       "      <td>0.507560</td>\n",
       "    </tr>\n",
       "  </tbody>\n",
       "</table>\n",
       "</div>"
      ],
      "text/plain": [
       "           country  year  elec_prod_from_renewable_energy\n",
       "40  European Union  1975                         0.558944\n",
       "39  European Union  1976                         0.513907\n",
       "38  European Union  1977                         0.519714\n",
       "37  European Union  1978                         0.522394\n",
       "36  European Union  1979                         0.507560"
      ]
     },
     "execution_count": 3,
     "metadata": {},
     "output_type": "execute_result"
    }
   ],
   "source": [
    "#the code to clean up the dataframe for electricity production from renewable energy\n",
    "from pandas_datareader import wb\n",
    "wb_rnwx = wb.download(indicator='EG.ELC.RNWX.ZS', country=['EUU', 'NAC', 'SSA', 'TLA'], start=1975, end=2015)\n",
    "wb_rnwx = wb_rnwx.rename(columns = {'EG.ELC.RNWX.ZS':'elec_prod_from_renewable_energy'})\n",
    "wb_rnwx = wb_rnwx.reset_index() #reset the index so EUU is first\n",
    "wb_rnwx.year = wb_rnwx.year.astype(int)\n",
    "wb_rnwx.country = wb_rnwx.country.astype('string')\n",
    "wb_rnwx = wb_rnwx.sort_values(['country','year']) #sorts by country and then year\n",
    "wb_rnwx.dropna() #drops all the values that says NaN\n",
    "\n",
    "wb_rnwx.head(5)"
   ]
  },
  {
   "cell_type": "markdown",
   "id": "f972dd88-6b52-45e4-954d-710d7bd00b3d",
   "metadata": {},
   "source": [
    "## The Figure for Renewable Energy"
   ]
  },
  {
   "cell_type": "code",
   "execution_count": 4,
   "id": "7022bf19-6c52-403a-85c7-0126fab72c1f",
   "metadata": {},
   "outputs": [],
   "source": [
    "import ipywidgets as widgets\n",
    "def plot_wb(wb_rnwx, country): \n",
    "    I = wb_rnwx['country'] == country\n",
    "    ax = wb_rnwx.loc[I,:].plot(x='year', y='elec_prod_from_renewable_energy', style='-o', legend=False)\n",
    "    ax.set_ylabel('% of total')"
   ]
  },
  {
   "cell_type": "code",
   "execution_count": 5,
   "id": "ea0a8daf-a0fe-46bf-bb6c-fe7494bf4b35",
   "metadata": {},
   "outputs": [
    {
     "data": {
      "application/vnd.jupyter.widget-view+json": {
       "model_id": "3ccfac357964479995688b2eaf903943",
       "version_major": 2,
       "version_minor": 0
      },
      "text/plain": [
       "interactive(children=(Dropdown(description='Country', options=('European Union', 'Latin America & the Caribbea…"
      ]
     },
     "metadata": {},
     "output_type": "display_data"
    }
   ],
   "source": [
    "widgets.interact(plot_wb, \n",
    "    wb_rnwx = widgets.fixed(wb_rnwx),\n",
    "    country = widgets.Dropdown(description='Country', \n",
    "                                    options=wb_rnwx.country.unique(), \n",
    "                                    value='European Union')\n",
    "); "
   ]
  },
  {
   "cell_type": "markdown",
   "id": "8777f4f0-6550-4cba-a77e-13f1720d7095",
   "metadata": {},
   "source": [
    "# Electricity Production from Nuclear Energy (as % of total)"
   ]
  },
  {
   "cell_type": "code",
   "execution_count": 6,
   "id": "c54fae37-c712-4b10-a743-bf55f510202d",
   "metadata": {},
   "outputs": [
    {
     "name": "stderr",
     "output_type": "stream",
     "text": [
      "/Users/lucasbillot/opt/anaconda3/lib/python3.9/site-packages/pandas_datareader/wb.py:592: UserWarning: Non-standard ISO country codes: EUU, NAC, SSA, TLA\n",
      "  warnings.warn(\n"
     ]
    },
    {
     "data": {
      "text/html": [
       "<div>\n",
       "<style scoped>\n",
       "    .dataframe tbody tr th:only-of-type {\n",
       "        vertical-align: middle;\n",
       "    }\n",
       "\n",
       "    .dataframe tbody tr th {\n",
       "        vertical-align: top;\n",
       "    }\n",
       "\n",
       "    .dataframe thead th {\n",
       "        text-align: right;\n",
       "    }\n",
       "</style>\n",
       "<table border=\"1\" class=\"dataframe\">\n",
       "  <thead>\n",
       "    <tr style=\"text-align: right;\">\n",
       "      <th></th>\n",
       "      <th>country</th>\n",
       "      <th>year</th>\n",
       "      <th>elec_prod_from_nuclear_energy</th>\n",
       "    </tr>\n",
       "  </thead>\n",
       "  <tbody>\n",
       "    <tr>\n",
       "      <th>40</th>\n",
       "      <td>European Union</td>\n",
       "      <td>1975</td>\n",
       "      <td>5.654875</td>\n",
       "    </tr>\n",
       "    <tr>\n",
       "      <th>39</th>\n",
       "      <td>European Union</td>\n",
       "      <td>1976</td>\n",
       "      <td>6.064906</td>\n",
       "    </tr>\n",
       "    <tr>\n",
       "      <th>38</th>\n",
       "      <td>European Union</td>\n",
       "      <td>1977</td>\n",
       "      <td>7.241884</td>\n",
       "    </tr>\n",
       "    <tr>\n",
       "      <th>37</th>\n",
       "      <td>European Union</td>\n",
       "      <td>1978</td>\n",
       "      <td>8.233095</td>\n",
       "    </tr>\n",
       "    <tr>\n",
       "      <th>36</th>\n",
       "      <td>European Union</td>\n",
       "      <td>1979</td>\n",
       "      <td>8.863022</td>\n",
       "    </tr>\n",
       "  </tbody>\n",
       "</table>\n",
       "</div>"
      ],
      "text/plain": [
       "           country  year  elec_prod_from_nuclear_energy\n",
       "40  European Union  1975                       5.654875\n",
       "39  European Union  1976                       6.064906\n",
       "38  European Union  1977                       7.241884\n",
       "37  European Union  1978                       8.233095\n",
       "36  European Union  1979                       8.863022"
      ]
     },
     "execution_count": 6,
     "metadata": {},
     "output_type": "execute_result"
    }
   ],
   "source": [
    "#this time the code is for electricity production from nuclear energy\n",
    "from pandas_datareader import wb\n",
    "wb_nucl = wb.download(indicator='EG.ELC.NUCL.ZS', country=['EUU', 'NAC', 'SSA', 'TLA'], start=1975, end=2015)\n",
    "wb_nucl = wb_nucl.rename(columns = {'EG.ELC.NUCL.ZS':'elec_prod_from_nuclear_energy'})\n",
    "wb_nucl = wb_nucl.reset_index()\n",
    "wb_nucl.year = wb_nucl.year.astype(int)\n",
    "wb_nucl.country = wb_nucl.country.astype('string')\n",
    "wb_nucl = wb_nucl.sort_values(['country','year'])\n",
    "wb_nucl.dropna()\n",
    "\n",
    "wb_nucl.head(5)"
   ]
  },
  {
   "cell_type": "markdown",
   "id": "5508e02e-2935-418d-ab1e-fcd6c2251e78",
   "metadata": {},
   "source": [
    "## The Figure for Nuclear Energy"
   ]
  },
  {
   "cell_type": "code",
   "execution_count": 7,
   "id": "aca5ea68-3962-42ce-b4dc-eaac572ae9f3",
   "metadata": {},
   "outputs": [],
   "source": [
    "#We make the figures interactive\n",
    "import ipywidgets as widgets\n",
    "def plot_wb(wb_nucl, country): \n",
    "    I = wb_nucl['country'] == country\n",
    "    ax=wb_nucl.loc[I,:].plot(x='year', y='elec_prod_from_nuclear_energy', style='-o', legend=False)\n",
    "    ax.set_ylabel('% of total')"
   ]
  },
  {
   "cell_type": "code",
   "execution_count": 8,
   "id": "7b47e1f6-014b-4d90-a3a9-95874b26094f",
   "metadata": {},
   "outputs": [
    {
     "data": {
      "application/vnd.jupyter.widget-view+json": {
       "model_id": "87f7a12321824d41b75a73a1f3e44b28",
       "version_major": 2,
       "version_minor": 0
      },
      "text/plain": [
       "interactive(children=(Dropdown(description='Country', options=('European Union', 'Latin America & the Caribbea…"
      ]
     },
     "metadata": {},
     "output_type": "display_data"
    }
   ],
   "source": [
    "widgets.interact(plot_wb, \n",
    "    wb_nucl = widgets.fixed(wb_nucl),\n",
    "    country = widgets.Dropdown(description='Country', \n",
    "                                    options=wb_nucl.country.unique(), \n",
    "                                    value='European Union')\n",
    "); "
   ]
  },
  {
   "cell_type": "markdown",
   "id": "2f3bb6e2-d975-42e9-8e6f-1d03e816293d",
   "metadata": {},
   "source": [
    "# Merging of the Datasets to Calculate the %-point Difference in Production"
   ]
  },
  {
   "cell_type": "code",
   "execution_count": 9,
   "id": "c703f640-5c37-472d-95b4-4907e958a8ed",
   "metadata": {},
   "outputs": [],
   "source": [
    "#We make a copy of the above datasets just in case, and then we merge them\n",
    "wb_nucl.copy()\n",
    "wb_rnwx.copy()\n",
    "wb = pd.merge(wb_nucl, wb_rnwx, on=['country', 'year'], how='left')\n",
    "wb.rename(columns={'elec_prod_from_nuclear_energy':'e'}, inplace=True)\n",
    "wb.rename(columns={'elec_prod_from_renewable_energy':'r'}, inplace=True)"
   ]
  },
  {
   "cell_type": "markdown",
   "id": "1b9ad481-b075-4fc1-9acb-18d9939a0402",
   "metadata": {},
   "source": [
    "## The Calculation"
   ]
  },
  {
   "cell_type": "code",
   "execution_count": 10,
   "id": "90c466c0-a175-4686-b909-db18238acb8c",
   "metadata": {},
   "outputs": [],
   "source": [
    "wb['prod_diff'] = wb.e - wb.r #we calculate the difference between the above datasets in percentage-points\n",
    "#wb.head(5)"
   ]
  },
  {
   "cell_type": "markdown",
   "id": "7a6c1486-ca7f-4573-ae3b-a12932f5b6a8",
   "metadata": {},
   "source": [
    "## The Interactive Figure Showing the %-point Difference"
   ]
  },
  {
   "cell_type": "code",
   "execution_count": 11,
   "id": "a82402c7-dc8f-4d3d-9040-cbadc3e312a2",
   "metadata": {},
   "outputs": [],
   "source": [
    "import ipywidgets as widgets\n",
    "def plot_wb(wb, country): \n",
    "    I = wb['country'] == country\n",
    "    ax = wb.loc[I,:].plot(x='year', y='prod_diff', style='-o', legend=False)\n",
    "    ax.set_ylabel('%-point difference of total production')"
   ]
  },
  {
   "cell_type": "code",
   "execution_count": 12,
   "id": "46f76d22-e7f5-4ec1-bd80-c6c410aff610",
   "metadata": {},
   "outputs": [
    {
     "data": {
      "application/vnd.jupyter.widget-view+json": {
       "model_id": "1cd2e5a9e01f49d086a65d56efd9d2f9",
       "version_major": 2,
       "version_minor": 0
      },
      "text/plain": [
       "interactive(children=(Dropdown(description='Country', options=('European Union', 'Latin America & the Caribbea…"
      ]
     },
     "metadata": {},
     "output_type": "display_data"
    }
   ],
   "source": [
    "widgets.interact(plot_wb, \n",
    "    wb = widgets.fixed(wb),\n",
    "    country = widgets.Dropdown(description='Country', \n",
    "                                    options=wb.country.unique(), \n",
    "                                    value='European Union')\n",
    "); "
   ]
  },
  {
   "cell_type": "markdown",
   "id": "2b013d25-d629-4743-af37-fee7d4369d16",
   "metadata": {},
   "source": [
    "# Electricity Production from Renewable Energy (in kwh)"
   ]
  },
  {
   "cell_type": "markdown",
   "id": "d3141336-4f9e-4f67-b85d-6871674917c0",
   "metadata": {},
   "source": [
    "## Importing and Data Cleaning"
   ]
  },
  {
   "cell_type": "code",
   "execution_count": 13,
   "id": "e3f400d5-7016-4900-9154-97d25605a4a5",
   "metadata": {},
   "outputs": [
    {
     "name": "stderr",
     "output_type": "stream",
     "text": [
      "/Users/lucasbillot/opt/anaconda3/lib/python3.9/site-packages/pandas_datareader/wb.py:592: UserWarning: Non-standard ISO country codes: EUU, NAC, SSA, TLA\n",
      "  warnings.warn(\n"
     ]
    }
   ],
   "source": [
    "#here the dataset is elecetricity production from renewable energy, but this time in kwh\n",
    "from pandas_datareader import wb\n",
    "wb_rnwx_kwh = wb.download(indicator='EG.ELC.RNWX.KH', country=['EUU', 'NAC', 'SSA', 'TLA'], start=1975, end=2015)\n",
    "#wb_rnwx_kwh = wb_rnwx_kwh.rename(columns = {'EG.ELC.RNWX.KH':'elec_prod_from_renewable_energy_in_kwh'})\n",
    "wb_rnwx_kwh = wb_rnwx_kwh.reset_index()\n",
    "wb_rnwx_kwh.year = wb_rnwx_kwh.year.astype(int)\n",
    "wb_rnwx_kwh.country = wb_rnwx_kwh.country.astype('string')\n",
    "wb_rnwx_kwh = wb_rnwx_kwh.sort_values(['country','year'])\n",
    "wb_rnwx_kwh.dropna()\n",
    "wb_rnwx_kwh.rename(columns={'EG.ELC.RNWX.KH':'e_in_kwh'}, inplace=True) #just for shorter code\n",
    "wb_rnwx_kwh['e_in_kwh_thousand'] = wb_rnwx_kwh['e_in_kwh']/1000000 #again because it's easier to read in the graph\n",
    "\n",
    "#wb_rnwx_kwh.head(5)"
   ]
  },
  {
   "cell_type": "markdown",
   "id": "86a14215-b46a-455c-b301-270a7307a47c",
   "metadata": {},
   "source": [
    "## Split-apply-combine"
   ]
  },
  {
   "cell_type": "code",
   "execution_count": 14,
   "id": "a892d4be-b0c2-4caa-b585-d41504b9c435",
   "metadata": {},
   "outputs": [],
   "source": [
    "#now we to the split-apply-combine on the above datasets\n",
    "wb_rnwx_kwh_ = wb_rnwx_kwh.copy()\n",
    "\n",
    "wb_rnwx_kwh_mean = wb_rnwx_kwh_.groupby('country')['e_in_kwh_thousand'].agg('mean') # spliting and apllying in one swoop\n",
    "\n",
    "wb_rnwx_kwh_mean.name = 'wb_rnwx_kwh_mean'\n",
    "wb_rnwx_kwh_ = wb_rnwx_kwh_.set_index('country').join(wb_rnwx_kwh_mean, how='left') # combining\n",
    "wb_rnwx_kwh_['demean'] = wb_rnwx_kwh_.e_in_kwh_thousand - wb_rnwx_kwh_.wb_rnwx_kwh_mean #we calculate the demean\n",
    "#wb_rnwx_kwh_.xs('European Union')"
   ]
  },
  {
   "cell_type": "markdown",
   "id": "8c7c01b8-dda7-4d60-b008-61fa5701d6fe",
   "metadata": {},
   "source": [
    "## The Figures"
   ]
  },
  {
   "cell_type": "markdown",
   "id": "ed82e7ae-4f8a-45be-8345-b3402c2dcbe5",
   "metadata": {},
   "source": [
    "### Electricity Production from Renewable Energy (in kwh)"
   ]
  },
  {
   "cell_type": "code",
   "execution_count": 15,
   "id": "83b73cab-7d76-40f4-8f55-31481eaee4e8",
   "metadata": {},
   "outputs": [
    {
     "data": {
      "text/plain": [
       "Text(0.5, 1.0, 'Figure: 5.3.1: Electricity Production from Renwable Energy (in kwh)')"
      ]
     },
     "execution_count": 15,
     "metadata": {},
     "output_type": "execute_result"
    },
    {
     "data": {
      "image/png": "[encoded data removed]",
      "text/plain": [
       "<Figure size 432x288 with 1 Axes>"
      ]
     },
     "metadata": {},
     "output_type": "display_data"
    }
   ],
   "source": [
    "#we plot the figures from above, but this time not interactively\n",
    "regions = ['European Union','North America','Latin America & the Caribbean (IDA & IBRD countries)', 'Sub-Saharan Africa (excluding high income)']\n",
    "\n",
    "fig = plt.figure()\n",
    "ax = fig.add_subplot(1,1,1)\n",
    "\n",
    "# Here we use the fact that the index has multiple levels (years) for an elegant loop\n",
    "for i in regions:\n",
    "    wb_rnwx_kwh_.xs(i).plot(x='year',y='e_in_kwh_thousand',ax=ax,label=i)\n",
    "\n",
    "ax.legend(frameon=True)\n",
    "ax.set_ylabel('kwh (thousands)')\n",
    "ax.set_xlim(1975, 2015) #removes the space between the border and 2015/1975\n",
    "ax.set_title('Figure: 5.3.1:'' ''Electricity Production from Renwable Energy (in kwh)')"
   ]
  },
  {
   "cell_type": "markdown",
   "id": "0e8bacd3-4d00-44cf-bc57-45b1a05d8c58",
   "metadata": {},
   "source": [
    "### Difference in Electricity Production from Renewable Energy from the Mean Electricity Production"
   ]
  },
  {
   "cell_type": "code",
   "execution_count": 16,
   "id": "6c101a02-a642-43fe-935d-814f13531309",
   "metadata": {},
   "outputs": [
    {
     "data": {
      "text/plain": [
       "Text(0.5, 1.0, 'Figure 5.3.2: Difference in Production from the Mean Value')"
      ]
     },
     "execution_count": 16,
     "metadata": {},
     "output_type": "execute_result"
    },
    {
     "data": {
      "image/png": "[encoded data removed]",
      "text/plain": [
       "<Figure size 432x288 with 1 Axes>"
      ]
     },
     "metadata": {},
     "output_type": "display_data"
    }
   ],
   "source": [
    "regions = ['European Union','North America','Latin America & the Caribbean (IDA & IBRD countries)', 'Sub-Saharan Africa (excluding high income)']\n",
    "\n",
    "fig = plt.figure()\n",
    "ax = fig.add_subplot(1,1,1)\n",
    "\n",
    "# Here we use the fact that the index has multiple levels (years) for an elegant loop\n",
    "for i in regions:\n",
    "    wb_rnwx_kwh_.xs(i).plot(x='year',y='demean',ax=ax,label=i)\n",
    "\n",
    "ax.legend(frameon=True)\n",
    "ax.set_ylabel('differrence to mean (thousands)')\n",
    "ax.set_xlim(1975, 2015)\n",
    "ax.set_title('Figure 5.3.2:' ' ' 'Difference in Production from the Mean Value')"
   ]
  }
 ],
 "metadata": {
  "kernelspec": {
   "display_name": "Python 3 (ipykernel)",
   "language": "python",
   "name": "python3"
  },
  "language_info": {
   "codemirror_mode": {
    "name": "ipython",
    "version": 3
   },
   "file_extension": ".py",
   "mimetype": "text/x-python",
   "name": "python",
   "nbconvert_exporter": "python",
   "pygments_lexer": "ipython3",
   "version": "3.9.7"
  }
 },
 "nbformat": 4,
 "nbformat_minor": 5
}
