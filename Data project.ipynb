{
 "cells": [
  {
   "cell_type": "markdown",
   "id": "eb4fea3d-f203-44f3-bf59-48fa0a37ae1a",
   "metadata": {
    "tags": []
   },
   "source": [
    "# Importing the libraries"
   ]
  },
  {
   "cell_type": "code",
   "execution_count": 1,
   "id": "54bb0c9c-e7e7-4ceb-9745-ab4b2bb1766e",
   "metadata": {
    "tags": []
   },
   "outputs": [],
   "source": [
    "#We start off with importing the modules and libraries\n",
    "import pandas as pd\n",
    "import matplotlib.pyplot as plt\n",
    "plt.style.use('seaborn-whitegrid')\n",
    "import Data_project as dp #importing the python file\n",
    "from pandas_datareader import wb # import WB API\n",
    "import ipywidgets as widgets #to make it interactive"
   ]
  },
  {
   "cell_type": "markdown",
   "id": "9a697c8f-0367-4fd6-9880-80141442ccf4",
   "metadata": {},
   "source": [
    "# Electricity Production from Renewable Energy (as % of total)"
   ]
  },
  {
   "cell_type": "markdown",
   "id": "962cd3c9-9763-462c-b3ab-d3b1948fad2d",
   "metadata": {},
   "source": [
    "## Importing and Data Cleaning"
   ]
  },
  {
   "cell_type": "code",
   "execution_count": 2,
   "id": "5ee27d2a-b770-4da2-9e79-a5224a3ef9e7",
   "metadata": {},
   "outputs": [
    {
     "name": "stderr",
     "output_type": "stream",
     "text": [
      "/Users/lucasbillot/opt/anaconda3/lib/python3.9/site-packages/pandas_datareader/wb.py:592: UserWarning: Non-standard ISO country codes: EUU, NAC, SSA, TLA\n",
      "  warnings.warn(\n"
     ]
    }
   ],
   "source": [
    "wb_rnwx = wb.download(indicator='EG.ELC.RNWX.ZS', country=['EUU', 'NAC', 'SSA', 'TLA'], start=1975, end=2015)\n",
    "wb_rnwx = wb_rnwx.rename(columns = {'EG.ELC.RNWX.ZS':'elec_prod_from_renewable_energy'})\n",
    "\n",
    "wb_rnwx = dp.data_cleaning1(wb_rnwx) #calling the function from the python file"
   ]
  },
  {
   "cell_type": "markdown",
   "id": "922652ed-2f36-4b11-a76b-92b4acea56e6",
   "metadata": {},
   "source": [
    "## Summary statistics"
   ]
  },
  {
   "cell_type": "code",
   "execution_count": 3,
   "id": "57c8552c-2752-40e7-a82d-e883db6a7f1b",
   "metadata": {},
   "outputs": [
    {
     "data": {
      "text/html": [
       "<div>\n",
       "<style scoped>\n",
       "    .dataframe tbody tr th:only-of-type {\n",
       "        vertical-align: middle;\n",
       "    }\n",
       "\n",
       "    .dataframe tbody tr th {\n",
       "        vertical-align: top;\n",
       "    }\n",
       "\n",
       "    .dataframe thead th {\n",
       "        text-align: right;\n",
       "    }\n",
       "</style>\n",
       "<table border=\"1\" class=\"dataframe\">\n",
       "  <thead>\n",
       "    <tr style=\"text-align: right;\">\n",
       "      <th></th>\n",
       "      <th>year</th>\n",
       "      <th>elec_prod_from_renewable_energy</th>\n",
       "    </tr>\n",
       "  </thead>\n",
       "  <tbody>\n",
       "    <tr>\n",
       "      <th>count</th>\n",
       "      <td>164.000000</td>\n",
       "      <td>164.000000</td>\n",
       "    </tr>\n",
       "    <tr>\n",
       "      <th>mean</th>\n",
       "      <td>1995.000000</td>\n",
       "      <td>2.191722</td>\n",
       "    </tr>\n",
       "    <tr>\n",
       "      <th>std</th>\n",
       "      <td>11.868399</td>\n",
       "      <td>2.943473</td>\n",
       "    </tr>\n",
       "    <tr>\n",
       "      <th>min</th>\n",
       "      <td>1975.000000</td>\n",
       "      <td>0.118038</td>\n",
       "    </tr>\n",
       "    <tr>\n",
       "      <th>25%</th>\n",
       "      <td>1985.000000</td>\n",
       "      <td>0.464843</td>\n",
       "    </tr>\n",
       "    <tr>\n",
       "      <th>50%</th>\n",
       "      <td>1995.000000</td>\n",
       "      <td>1.380155</td>\n",
       "    </tr>\n",
       "    <tr>\n",
       "      <th>75%</th>\n",
       "      <td>2005.000000</td>\n",
       "      <td>2.505018</td>\n",
       "    </tr>\n",
       "    <tr>\n",
       "      <th>max</th>\n",
       "      <td>2015.000000</td>\n",
       "      <td>18.041960</td>\n",
       "    </tr>\n",
       "  </tbody>\n",
       "</table>\n",
       "</div>"
      ],
      "text/plain": [
       "              year  elec_prod_from_renewable_energy\n",
       "count   164.000000                       164.000000\n",
       "mean   1995.000000                         2.191722\n",
       "std      11.868399                         2.943473\n",
       "min    1975.000000                         0.118038\n",
       "25%    1985.000000                         0.464843\n",
       "50%    1995.000000                         1.380155\n",
       "75%    2005.000000                         2.505018\n",
       "max    2015.000000                        18.041960"
      ]
     },
     "execution_count": 3,
     "metadata": {},
     "output_type": "execute_result"
    }
   ],
   "source": [
    "wb_rnwx.describe()"
   ]
  },
  {
   "cell_type": "markdown",
   "id": "f972dd88-6b52-45e4-954d-710d7bd00b3d",
   "metadata": {},
   "source": [
    "## The Figure for Renewable Energy"
   ]
  },
  {
   "cell_type": "code",
   "execution_count": 4,
   "id": "ea0a8daf-a0fe-46bf-bb6c-fe7494bf4b35",
   "metadata": {},
   "outputs": [
    {
     "data": {
      "application/vnd.jupyter.widget-view+json": {
       "model_id": "e2ce87d4783b40dfb59446d46fd13789",
       "version_major": 2,
       "version_minor": 0
      },
      "text/plain": [
       "interactive(children=(Dropdown(description='Country', options=('European Union', 'Latin America & the Caribbea…"
      ]
     },
     "metadata": {},
     "output_type": "display_data"
    }
   ],
   "source": [
    "widgets.interact(dp.plot_wb1, \n",
    "    wb_rnwx = widgets.fixed(wb_rnwx),\n",
    "    country = widgets.Dropdown(description='Country', \n",
    "                                    options=wb_rnwx.country.unique(), \n",
    "                                    value='European Union')\n",
    "); "
   ]
  },
  {
   "cell_type": "markdown",
   "id": "30cf1d8b-1e4a-4343-92ce-0aac3b078911",
   "metadata": {},
   "source": [
    "In figure 2.1 we see an increase in electricity production from renewable energy for the European Union and North America by respectively 17,5 %-points and 7%-point, showing that the European Union is leading the race in electricity production from renewable sources. Sub-Saharan Africa has only recently, from ca. 2012 started seing an increase in electricity production from renewable energy, with a rise of about 1,5%-point of total production. Most suprisingly, Latin America and the Caribbean has had the same rise in %-points over the period as North America, only difference being that their switch to renewable energy started later, in 2000."
   ]
  },
  {
   "cell_type": "markdown",
   "id": "8777f4f0-6550-4cba-a77e-13f1720d7095",
   "metadata": {},
   "source": [
    "# Electricity Production from Nuclear Energy (as % of total)"
   ]
  },
  {
   "cell_type": "markdown",
   "id": "d2ad4c6f-f49d-4588-8c4d-6e2bfa17e096",
   "metadata": {},
   "source": [
    "## Importing and Data Cleaning"
   ]
  },
  {
   "cell_type": "code",
   "execution_count": 5,
   "id": "c54fae37-c712-4b10-a743-bf55f510202d",
   "metadata": {},
   "outputs": [
    {
     "name": "stderr",
     "output_type": "stream",
     "text": [
      "/Users/lucasbillot/opt/anaconda3/lib/python3.9/site-packages/pandas_datareader/wb.py:592: UserWarning: Non-standard ISO country codes: EUU, NAC, SSA, TLA\n",
      "  warnings.warn(\n"
     ]
    }
   ],
   "source": [
    "#this time the code is for electricity production from nuclear energy\n",
    "wb_nucl = wb.download(indicator='EG.ELC.NUCL.ZS', country=['EUU', 'NAC', 'SSA', 'TLA'], start=1975, end=2015)\n",
    "wb_nucl = wb_nucl.rename(columns = {'EG.ELC.NUCL.ZS':'elec_prod_from_nuclear_energy'})\n",
    "\n",
    "wb_nucl = dp.data_cleaning2(wb_nucl)"
   ]
  },
  {
   "cell_type": "markdown",
   "id": "c8be8a8f-597b-4f09-8537-648c7e31a8bc",
   "metadata": {},
   "source": [
    "## Summary statistics"
   ]
  },
  {
   "cell_type": "code",
   "execution_count": 6,
   "id": "e0f65ab1-a6f4-4715-a1c6-6bb1f9885043",
   "metadata": {},
   "outputs": [
    {
     "data": {
      "text/html": [
       "<div>\n",
       "<style scoped>\n",
       "    .dataframe tbody tr th:only-of-type {\n",
       "        vertical-align: middle;\n",
       "    }\n",
       "\n",
       "    .dataframe tbody tr th {\n",
       "        vertical-align: top;\n",
       "    }\n",
       "\n",
       "    .dataframe thead th {\n",
       "        text-align: right;\n",
       "    }\n",
       "</style>\n",
       "<table border=\"1\" class=\"dataframe\">\n",
       "  <thead>\n",
       "    <tr style=\"text-align: right;\">\n",
       "      <th></th>\n",
       "      <th>year</th>\n",
       "      <th>elec_prod_from_nuclear_energy</th>\n",
       "    </tr>\n",
       "  </thead>\n",
       "  <tbody>\n",
       "    <tr>\n",
       "      <th>count</th>\n",
       "      <td>164.000000</td>\n",
       "      <td>163.000000</td>\n",
       "    </tr>\n",
       "    <tr>\n",
       "      <th>mean</th>\n",
       "      <td>1995.000000</td>\n",
       "      <td>11.958706</td>\n",
       "    </tr>\n",
       "    <tr>\n",
       "      <th>std</th>\n",
       "      <td>11.868399</td>\n",
       "      <td>11.363315</td>\n",
       "    </tr>\n",
       "    <tr>\n",
       "      <th>min</th>\n",
       "      <td>1975.000000</td>\n",
       "      <td>0.000000</td>\n",
       "    </tr>\n",
       "    <tr>\n",
       "      <th>25%</th>\n",
       "      <td>1985.000000</td>\n",
       "      <td>2.407216</td>\n",
       "    </tr>\n",
       "    <tr>\n",
       "      <th>50%</th>\n",
       "      <td>1995.000000</td>\n",
       "      <td>5.654875</td>\n",
       "    </tr>\n",
       "    <tr>\n",
       "      <th>75%</th>\n",
       "      <td>2005.000000</td>\n",
       "      <td>19.017553</td>\n",
       "    </tr>\n",
       "    <tr>\n",
       "      <th>max</th>\n",
       "      <td>2015.000000</td>\n",
       "      <td>33.812418</td>\n",
       "    </tr>\n",
       "  </tbody>\n",
       "</table>\n",
       "</div>"
      ],
      "text/plain": [
       "              year  elec_prod_from_nuclear_energy\n",
       "count   164.000000                     163.000000\n",
       "mean   1995.000000                      11.958706\n",
       "std      11.868399                      11.363315\n",
       "min    1975.000000                       0.000000\n",
       "25%    1985.000000                       2.407216\n",
       "50%    1995.000000                       5.654875\n",
       "75%    2005.000000                      19.017553\n",
       "max    2015.000000                      33.812418"
      ]
     },
     "execution_count": 6,
     "metadata": {},
     "output_type": "execute_result"
    }
   ],
   "source": [
    "wb_nucl.describe()"
   ]
  },
  {
   "cell_type": "markdown",
   "id": "5508e02e-2935-418d-ab1e-fcd6c2251e78",
   "metadata": {},
   "source": [
    "## The Figure for Nuclear Energy"
   ]
  },
  {
   "cell_type": "code",
   "execution_count": 7,
   "id": "7b47e1f6-014b-4d90-a3a9-95874b26094f",
   "metadata": {},
   "outputs": [
    {
     "data": {
      "application/vnd.jupyter.widget-view+json": {
       "model_id": "fa00b4ab2eb5439b91392d0ff7c0ae73",
       "version_major": 2,
       "version_minor": 0
      },
      "text/plain": [
       "interactive(children=(Dropdown(description='Country', options=('European Union', 'Latin America & the Caribbea…"
      ]
     },
     "metadata": {},
     "output_type": "display_data"
    }
   ],
   "source": [
    "widgets.interact(dp.plot_wb2, \n",
    "    wb_nucl = widgets.fixed(wb_nucl),\n",
    "    country = widgets.Dropdown(description='Country', \n",
    "                                    options=wb_nucl.country.unique(), \n",
    "                                    value='European Union')\n",
    "); "
   ]
  },
  {
   "cell_type": "markdown",
   "id": "518f951f-c94a-496a-80ae-1cd0f4df8c66",
   "metadata": {},
   "source": [
    "# Electricity Production from Fossil Fuels (as % of total)"
   ]
  },
  {
   "cell_type": "markdown",
   "id": "7268cc66-a2ec-40dc-9ae6-b977493e8f52",
   "metadata": {},
   "source": [
    "## Importing and Data Cleaning"
   ]
  },
  {
   "cell_type": "code",
   "execution_count": 8,
   "id": "e7fd9476-1ccd-4813-9574-fae9442df2c3",
   "metadata": {},
   "outputs": [
    {
     "name": "stderr",
     "output_type": "stream",
     "text": [
      "/Users/lucasbillot/opt/anaconda3/lib/python3.9/site-packages/pandas_datareader/wb.py:592: UserWarning: Non-standard ISO country codes: EUU, NAC, SSA, TLA\n",
      "  warnings.warn(\n"
     ]
    }
   ],
   "source": [
    "# load wb data for energy production from fossil fuels 1975-2015\n",
    "wb_fosl = wb.download(indicator='EG.ELC.FOSL.ZS', country=['EUU','NAC','SSA','TLA'], start=1975, end=2015)\n",
    "wb_fosl = wb_fosl.rename(columns = {'EG.ELC.FOSL.ZS':'fosl'})\n",
    "\n",
    "wb_fosl = dp.data_cleaning3(wb_fosl)"
   ]
  },
  {
   "cell_type": "markdown",
   "id": "d8a4fc24-a756-45c5-bd98-4218975bbf17",
   "metadata": {},
   "source": [
    "## Summary Statistics"
   ]
  },
  {
   "cell_type": "code",
   "execution_count": 9,
   "id": "0dce474b-3308-45e2-962b-ffb824c37195",
   "metadata": {},
   "outputs": [
    {
     "data": {
      "text/html": [
       "<div>\n",
       "<style scoped>\n",
       "    .dataframe tbody tr th:only-of-type {\n",
       "        vertical-align: middle;\n",
       "    }\n",
       "\n",
       "    .dataframe tbody tr th {\n",
       "        vertical-align: top;\n",
       "    }\n",
       "\n",
       "    .dataframe thead th {\n",
       "        text-align: right;\n",
       "    }\n",
       "</style>\n",
       "<table border=\"1\" class=\"dataframe\">\n",
       "  <thead>\n",
       "    <tr style=\"text-align: right;\">\n",
       "      <th></th>\n",
       "      <th>year</th>\n",
       "      <th>fosl</th>\n",
       "    </tr>\n",
       "  </thead>\n",
       "  <tbody>\n",
       "    <tr>\n",
       "      <th>count</th>\n",
       "      <td>164.000000</td>\n",
       "      <td>164.000000</td>\n",
       "    </tr>\n",
       "    <tr>\n",
       "      <th>mean</th>\n",
       "      <td>1995.000000</td>\n",
       "      <td>55.691065</td>\n",
       "    </tr>\n",
       "    <tr>\n",
       "      <th>std</th>\n",
       "      <td>11.868399</td>\n",
       "      <td>13.805352</td>\n",
       "    </tr>\n",
       "    <tr>\n",
       "      <th>min</th>\n",
       "      <td>1975.000000</td>\n",
       "      <td>28.929759</td>\n",
       "    </tr>\n",
       "    <tr>\n",
       "      <th>25%</th>\n",
       "      <td>1985.000000</td>\n",
       "      <td>42.746090</td>\n",
       "    </tr>\n",
       "    <tr>\n",
       "      <th>50%</th>\n",
       "      <td>1995.000000</td>\n",
       "      <td>62.811625</td>\n",
       "    </tr>\n",
       "    <tr>\n",
       "      <th>75%</th>\n",
       "      <td>2005.000000</td>\n",
       "      <td>67.294690</td>\n",
       "    </tr>\n",
       "    <tr>\n",
       "      <th>max</th>\n",
       "      <td>2015.000000</td>\n",
       "      <td>74.799558</td>\n",
       "    </tr>\n",
       "  </tbody>\n",
       "</table>\n",
       "</div>"
      ],
      "text/plain": [
       "              year        fosl\n",
       "count   164.000000  164.000000\n",
       "mean   1995.000000   55.691065\n",
       "std      11.868399   13.805352\n",
       "min    1975.000000   28.929759\n",
       "25%    1985.000000   42.746090\n",
       "50%    1995.000000   62.811625\n",
       "75%    2005.000000   67.294690\n",
       "max    2015.000000   74.799558"
      ]
     },
     "execution_count": 9,
     "metadata": {},
     "output_type": "execute_result"
    }
   ],
   "source": [
    "wb_fosl.describe()"
   ]
  },
  {
   "cell_type": "markdown",
   "id": "ac628db2-41dd-4792-be5f-c1f36b74c80c",
   "metadata": {},
   "source": [
    "## Figure for Fossil Fuels"
   ]
  },
  {
   "cell_type": "code",
   "execution_count": 10,
   "id": "d1233b6c-7b4e-4374-a3c9-ef759e9fe9f8",
   "metadata": {},
   "outputs": [
    {
     "data": {
      "application/vnd.jupyter.widget-view+json": {
       "model_id": "f8f76e91fec34e519270e8d34eed2ff3",
       "version_major": 2,
       "version_minor": 0
      },
      "text/plain": [
       "interactive(children=(Dropdown(description='Country', options=('European Union', 'Latin America & the Caribbea…"
      ]
     },
     "metadata": {},
     "output_type": "display_data"
    }
   ],
   "source": [
    "widgets.interact(dp.plot_wb3, \n",
    "    wb_fosl = widgets.fixed(wb_fosl),\n",
    "    country = widgets.Dropdown(description='Country', \n",
    "                                    options=wb_fosl.country.unique(), \n",
    "                                    value='European Union')\n",
    ");"
   ]
  },
  {
   "cell_type": "markdown",
   "id": "9e948f85-a816-49e2-a771-0883d11b232d",
   "metadata": {},
   "source": [
    "# Figure of fossil fuels compared to renewable energy"
   ]
  },
  {
   "cell_type": "code",
   "execution_count": 11,
   "id": "39279ba0-bfce-4368-9c8f-8d19473bc649",
   "metadata": {},
   "outputs": [
    {
     "data": {
      "application/vnd.jupyter.widget-view+json": {
       "model_id": "4e7b3ca8dc2d4c2dbbceed41d6aaef02",
       "version_major": 2,
       "version_minor": 0
      },
      "text/plain": [
       "interactive(children=(Dropdown(description='Country', options=('European Union', 'Latin America & the Caribbea…"
      ]
     },
     "metadata": {},
     "output_type": "display_data"
    }
   ],
   "source": [
    "def plot_wb7(wb_rnwx, country): \n",
    "    print(list(wb_rnwx.country.unique()))\n",
    "    y_limits = {'European Union': (0, 30), \n",
    "                'Latin America & the Caribbean (IDA & IBRD countries)': (0, 15),\n",
    "                'North America': (0, 15),\n",
    "                'Sub-Saharan Africa (excluding high income)': (0, 5)}\n",
    "    \n",
    "    fig,ax=plt.subplots(figsize=(8,6))\n",
    "    \n",
    "    wb_eu = wb_rnwx[wb_rnwx['country'] == country]\n",
    "    wb_fosl_eu = wb_fosl[wb_fosl['country'] ==  country]\n",
    "\n",
    "    l = ax.plot(wb_eu.year, wb_eu.elec_prod_from_renewable_energy, color='green', label = 'renewable srcs')\n",
    "    ax.set_xlabel(\"year\",fontsize=14)\n",
    "    ax2=ax.twinx()\n",
    "    l2 = ax2.plot(wb_fosl_eu.year, wb_fosl_eu.fosl, color='red', label = 'fossil fuels')\n",
    "    ax.set_ylabel('% share renewable sources')\n",
    "    ax.set_xlabel('year',fontsize=14)\n",
    "    ax.set_xlim(1975, 2015)\n",
    "    ax.set_ylim(y_limits[country])\n",
    "    ax.set_title('% Energy prod from renewable (green) vs fossil (red) sources')\n",
    "    \n",
    "    ax2.grid(None)\n",
    "    lns = l + l2\n",
    "    labels = [l.get_label() for l in lns]\n",
    "\n",
    "    plt.legend(lns, labels, loc = 'upper center', facecolor = 'yellow')\n",
    "\n",
    "widgets.interact(plot_wb7, \n",
    "    wb_rnwx = widgets.fixed(wb_rnwx),\n",
    "    country = widgets.Dropdown(description='Country', \n",
    "                                    options=wb_rnwx.country.unique(), \n",
    "                                    value='European Union')\n",
    "                 \n",
    ");"
   ]
  },
  {
   "cell_type": "markdown",
   "id": "d931f983-b0bc-4966-8254-297986f1f2ca",
   "metadata": {},
   "source": [
    "ADD text here"
   ]
  },
  {
   "cell_type": "markdown",
   "id": "2f3bb6e2-d975-42e9-8e6f-1d03e816293d",
   "metadata": {},
   "source": [
    "# Merging of the Datasets to Calculate the %-point Difference in Production"
   ]
  },
  {
   "cell_type": "code",
   "execution_count": 12,
   "id": "c703f640-5c37-472d-95b4-4907e958a8ed",
   "metadata": {},
   "outputs": [],
   "source": [
    "#We merge, first for nuclear- and renewable energy\n",
    "wb = pd.merge(wb_nucl, wb_rnwx, on=['country', 'year'], how='left')\n",
    "wb.rename(columns={'elec_prod_from_nuclear_energy':'e'}, inplace=True)\n",
    "wb.rename(columns={'elec_prod_from_renewable_energy':'r'}, inplace=True)"
   ]
  },
  {
   "cell_type": "code",
   "execution_count": 13,
   "id": "3ba42776-0ef8-4de3-9229-85ef1991a0aa",
   "metadata": {},
   "outputs": [],
   "source": [
    "#Then we merge for renewable energy and fossil fuels\n",
    "wb2 = pd.merge(wb_fosl, wb_rnwx, on=['country', 'year'], how='left')\n",
    "wb2.dropna()\n",
    "wb2.rename(columns={'fosl':'f'}, inplace=True)\n",
    "wb2.rename(columns={'elec_prod_from_renewable_energy':'re'}, inplace=True)"
   ]
  },
  {
   "cell_type": "markdown",
   "id": "1b9ad481-b075-4fc1-9acb-18d9939a0402",
   "metadata": {
    "tags": []
   },
   "source": [
    "## The Calculation"
   ]
  },
  {
   "cell_type": "code",
   "execution_count": 14,
   "id": "90c466c0-a175-4686-b909-db18238acb8c",
   "metadata": {},
   "outputs": [],
   "source": [
    "wb['prod_diff'] = wb.e - wb.r #we calculate the difference between the above datasets in percentage-points\n",
    "wb2['prod_diff2'] = wb2.f - wb2.re"
   ]
  },
  {
   "cell_type": "markdown",
   "id": "7a6c1486-ca7f-4573-ae3b-a12932f5b6a8",
   "metadata": {},
   "source": [
    "## The Interactive Figure Showing the %-point Difference"
   ]
  },
  {
   "cell_type": "code",
   "execution_count": 15,
   "id": "46f76d22-e7f5-4ec1-bd80-c6c410aff610",
   "metadata": {},
   "outputs": [
    {
     "data": {
      "application/vnd.jupyter.widget-view+json": {
       "model_id": "571000a28e0147b9b9c620db92d87b59",
       "version_major": 2,
       "version_minor": 0
      },
      "text/plain": [
       "interactive(children=(Dropdown(description='Country', options=('European Union', 'Latin America & the Caribbea…"
      ]
     },
     "metadata": {},
     "output_type": "display_data"
    }
   ],
   "source": [
    "widgets.interact(dp.plot_wb4, \n",
    "    wb = widgets.fixed(wb),\n",
    "    country = widgets.Dropdown(description='Country', \n",
    "                                    options=wb.country.unique(), \n",
    "                                    value='European Union')\n",
    "); "
   ]
  },
  {
   "cell_type": "code",
   "execution_count": 16,
   "id": "6f3c701e-c985-4e57-bf62-46d5c1006d29",
   "metadata": {},
   "outputs": [
    {
     "data": {
      "application/vnd.jupyter.widget-view+json": {
       "model_id": "01c2b81ddc574218805b45b609e6232f",
       "version_major": 2,
       "version_minor": 0
      },
      "text/plain": [
       "interactive(children=(Dropdown(description='Country', options=('European Union', 'Latin America & the Caribbea…"
      ]
     },
     "metadata": {},
     "output_type": "display_data"
    }
   ],
   "source": [
    "widgets.interact(dp.plot_wb5, \n",
    "    wb2 = widgets.fixed(wb2),\n",
    "    country = widgets.Dropdown(description='Country', \n",
    "                                    options=wb2.country.unique(), \n",
    "                                    value='European Union')\n",
    "); "
   ]
  },
  {
   "cell_type": "markdown",
   "id": "36ff047e-085d-4576-8da9-acd3c58152e1",
   "metadata": {},
   "source": [
    "ADD text here"
   ]
  },
  {
   "cell_type": "markdown",
   "id": "2b013d25-d629-4743-af37-fee7d4369d16",
   "metadata": {},
   "source": [
    "# Electricity Production from Renewable Energy (in kwh)"
   ]
  },
  {
   "cell_type": "markdown",
   "id": "d3141336-4f9e-4f67-b85d-6871674917c0",
   "metadata": {},
   "source": [
    "## Importing and Data Cleaning"
   ]
  },
  {
   "cell_type": "code",
   "execution_count": 21,
   "id": "e3f400d5-7016-4900-9154-97d25605a4a5",
   "metadata": {},
   "outputs": [
    {
     "name": "stderr",
     "output_type": "stream",
     "text": [
      "/Users/lucasbillot/opt/anaconda3/lib/python3.9/site-packages/pandas_datareader/wb.py:592: UserWarning: Non-standard ISO country codes: EUU, NAC, SSA, TLA\n",
      "  warnings.warn(\n"
     ]
    }
   ],
   "source": [
    "#here the dataset is elecetricity production from renewable energy, but this time in kwh\n",
    "from pandas_datareader import wb\n",
    "wb_rnwx_kwh = wb.download(indicator='EG.ELC.RNWX.KH', country=['EUU', 'NAC', 'SSA', 'TLA'], start=1975, end=2015)\n",
    "wb_rnwx_kwh.rename(columns={'EG.ELC.RNWX.KH':'e_in_kwh'}, inplace=True) #just for shorter code\n",
    "\n",
    "wb_rnwx_kwh = wb_rnwx_kwh = dp.data_cleaning4(wb_rnwx_kwh)"
   ]
  },
  {
   "cell_type": "markdown",
   "id": "86a14215-b46a-455c-b301-270a7307a47c",
   "metadata": {},
   "source": [
    "## Split-apply-combine"
   ]
  },
  {
   "cell_type": "code",
   "execution_count": 22,
   "id": "a892d4be-b0c2-4caa-b585-d41504b9c435",
   "metadata": {},
   "outputs": [],
   "source": [
    "#now we to the split-apply-combine on the above datasets\n",
    "wb_rnwx_kwh_ = wb_rnwx_kwh.copy() #make a copy, just in case.\n",
    "\n",
    "wb_rnwx_kwh_mean = wb_rnwx_kwh_.groupby('country')['e_in_kwh_thousand'].agg('mean') # spliting and apllying in one swoop\n",
    "\n",
    "wb_rnwx_kwh_mean.name = 'wb_rnwx_kwh_mean' #renaming for simpler code\n",
    "wb_rnwx_kwh_ = wb_rnwx_kwh_.set_index('country').join(wb_rnwx_kwh_mean, how='left') # combining\n",
    "wb_rnwx_kwh_['demean'] = wb_rnwx_kwh_.e_in_kwh_thousand - wb_rnwx_kwh_.wb_rnwx_kwh_mean #we calculate the demean"
   ]
  },
  {
   "cell_type": "markdown",
   "id": "8c7c01b8-dda7-4d60-b008-61fa5701d6fe",
   "metadata": {},
   "source": [
    "## The Figures"
   ]
  },
  {
   "cell_type": "markdown",
   "id": "ed82e7ae-4f8a-45be-8345-b3402c2dcbe5",
   "metadata": {},
   "source": [
    "### Electricity Production from Renewable Energy (in kwh)"
   ]
  },
  {
   "cell_type": "code",
   "execution_count": 23,
   "id": "83b73cab-7d76-40f4-8f55-31481eaee4e8",
   "metadata": {},
   "outputs": [
    {
     "data": {
      "text/plain": [
       "Text(0.5, 1.0, 'Figure: 7.3.1: Electricity Production from Renewable Energy (in kwh)')"
      ]
     },
     "execution_count": 23,
     "metadata": {},
     "output_type": "execute_result"
    },
    {
     "data": {
      "image/png": "[encoded data removed]",
      "text/plain": [
       "<Figure size 576x432 with 1 Axes>"
      ]
     },
     "metadata": {},
     "output_type": "display_data"
    }
   ],
   "source": [
    "#we plot the figures from above, but this time not interactively\n",
    "regions = ['European Union',\n",
    "           'North America',\n",
    "           'Latin America & the Caribbean (IDA & IBRD countries)',\n",
    "           'Sub-Saharan Africa (excluding high income)']\n",
    "\n",
    "fig = plt.figure(figsize=(8,6))\n",
    "ax = fig.add_subplot(1,1,1)\n",
    "\n",
    "# Here we use the fact that the index has multiple levels (years) for an elegant loop\n",
    "for i in regions:\n",
    "    wb_rnwx_kwh_.xs(i).plot(x='year',y='e_in_kwh_thousand',ax=ax,label=i)\n",
    "\n",
    "ax.legend(frameon=True)\n",
    "ax.set_ylabel('kwh (thousands)')\n",
    "ax.set_xlim(1975, 2015) #removes the space between the border and 2015/1975\n",
    "ax.set_title('Figure: 7.3.1:'' ''Electricity Production from Renewable Energy (in kwh)')"
   ]
  },
  {
   "cell_type": "markdown",
   "id": "0e8bacd3-4d00-44cf-bc57-45b1a05d8c58",
   "metadata": {},
   "source": [
    "### Difference in Electricity Production from Renewable Energy from the Mean Electricity Production"
   ]
  },
  {
   "cell_type": "code",
   "execution_count": 24,
   "id": "6c101a02-a642-43fe-935d-814f13531309",
   "metadata": {},
   "outputs": [
    {
     "data": {
      "text/plain": [
       "Text(0.5, 1.0, 'Figure 7.3.2: Difference in Production from the Mean Value')"
      ]
     },
     "execution_count": 24,
     "metadata": {},
     "output_type": "execute_result"
    },
    {
     "data": {
      "image/png": "[encoded data removed]",
      "text/plain": [
       "<Figure size 576x432 with 1 Axes>"
      ]
     },
     "metadata": {},
     "output_type": "display_data"
    }
   ],
   "source": [
    "regions = ['European Union',\n",
    "           'North America',\n",
    "           'Latin America & the Caribbean (IDA & IBRD countries)',\n",
    "           'Sub-Saharan Africa (excluding high income)']\n",
    "\n",
    "fig = plt.figure(figsize=(8,6))\n",
    "ax = fig.add_subplot(1,1,1)\n",
    "\n",
    "# Here we use the fact that the index has multiple levels (years) for an elegant loop\n",
    "for i in regions:\n",
    "    wb_rnwx_kwh_.xs(i).plot(x='year',y='demean',ax=ax,label=i)\n",
    "\n",
    "ax.legend(frameon=True)\n",
    "ax.set_ylabel('differrence to mean (thousands)')\n",
    "ax.set_xlim(1975, 2015)\n",
    "ax.set_title('Figure 7.3.2:' ' ' 'Difference in Production from the Mean Value')"
   ]
  },
  {
   "cell_type": "markdown",
   "id": "9cee5020-ea2c-40bc-b62b-340e5a30a860",
   "metadata": {},
   "source": [
    "ADD text for the two figures here"
   ]
  },
  {
   "cell_type": "markdown",
   "id": "52759567-7141-446e-92b4-56b97b46dd46",
   "metadata": {},
   "source": [
    "From the figures above, we observe that across regions, the share of total energy production from renewable sources has steadily increased since the 1970s, with the exception of Latin America and the Carribbean. Indeed, the latter shows an increasing trend in energy production from fossil fuels. This is in line with observations in covered in the news (https://dialogochino.net/en/climate-energy/43661-latin-america-continues-expansion-of-fossil-fuels-despite-climate-change/). The trend of increasing use of renewable sources is represented by the converging difference. Notably, the EU has the highest % share of energy production from renewables and the SSA the lowest. In sum, the challenge of equal access to clean and affordable energy stipulated by SDG 7 remains highly challenged. \""
   ]
  }
 ],
 "metadata": {
  "kernelspec": {
   "display_name": "Python 3 (ipykernel)",
   "language": "python",
   "name": "python3"
  },
  "language_info": {
   "codemirror_mode": {
    "name": "ipython",
    "version": 3
   },
   "file_extension": ".py",
   "mimetype": "text/x-python",
   "name": "python",
   "nbconvert_exporter": "python",
   "pygments_lexer": "ipython3",
   "version": "3.9.7"
  }
 },
 "nbformat": 4,
 "nbformat_minor": 5
}
