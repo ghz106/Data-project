{
 "cells": [
  {
   "cell_type": "markdown",
   "id": "c494e226-c028-4a18-bcdc-5f802ebfb173",
   "metadata": {},
   "source": [
    "Global surface temperature has increased ≈ 0.2°C per decade in the last 30 years. (Global temperature change: Hansen, James, September 26, 2006) Year after year a new scientific report releases desribing the unsustainability and the horrific effects on the globe of this increase in global temperatures. As more and more people, politicians, governments, and firms around the world starts to realize this, the more focus has shifted onto green- and nuclear energy and less onto fossil fuels. In 2015 the UN set 17 world goals for sustainable development, one of these goals, goal number 7, goes like this: ''Ensure access to affordable, reliable, sustainable, and modern energy for all'' (UN, 2015)\n",
    "In this paper we, via data from the World Bank, analyse and desribe one of the targets/indicators of the 7'th world goal: ''By 2030, increase substantially the share of renewable energy in the global energy mix''. We do this by analyzing the electricity production from respectively renewable- and nuclear energy and compare it to electricity production from fossil fuels. We do this for the richer, developed regions of North America and the European Union and then compare it to the poorer and less-developed regions of Sub-Saharan Africa, and Latin America and the Caribbean.\n",
    "Our findings is that both North America and the European Union has seen a rapid increase in electricity production from both nuclear- and renewable energy, and even more so for nuclear energy, and a drastic fall in electricity production from fossil fuels, while Sub-Saharan Africa and Latin America and the Caribbean have only recently started to see an improvement over the time span."
   ]
  },
  {
   "cell_type": "markdown",
   "id": "eb4fea3d-f203-44f3-bf59-48fa0a37ae1a",
   "metadata": {},
   "source": [
    "# Importing the libraries"
   ]
  },
  {
   "cell_type": "code",
   "execution_count": 1,
   "id": "54bb0c9c-e7e7-4ceb-9745-ab4b2bb1766e",
   "metadata": {
    "tags": []
   },
   "outputs": [],
   "source": [
    "#We start off with importing the modules and libraries\n",
    "from pandas_datareader import wb # import WB API\n",
    "import pandas as pd\n",
    "import matplotlib.pyplot as plt\n",
    "plt.style.use('seaborn-whitegrid')"
   ]
  },
  {
   "cell_type": "markdown",
   "id": "9a697c8f-0367-4fd6-9880-80141442ccf4",
   "metadata": {},
   "source": [
    "# Electricity Production from Renewable Energy (as % of total)"
   ]
  },
  {
   "cell_type": "markdown",
   "id": "962cd3c9-9763-462c-b3ab-d3b1948fad2d",
   "metadata": {},
   "source": [
    "## Importing and Data Cleaning"
   ]
  },
  {
   "cell_type": "code",
   "execution_count": 51,
   "id": "5ee27d2a-b770-4da2-9e79-a5224a3ef9e7",
   "metadata": {},
   "outputs": [
    {
     "name": "stderr",
     "output_type": "stream",
     "text": [
      "/Users/lucasbillot/opt/anaconda3/lib/python3.9/site-packages/pandas_datareader/wb.py:592: UserWarning: Non-standard ISO country codes: EUU, NAC, SSA, TLA\n",
      "  warnings.warn(\n"
     ]
    },
    {
     "data": {
      "text/html": [
       "<div>\n",
       "<style scoped>\n",
       "    .dataframe tbody tr th:only-of-type {\n",
       "        vertical-align: middle;\n",
       "    }\n",
       "\n",
       "    .dataframe tbody tr th {\n",
       "        vertical-align: top;\n",
       "    }\n",
       "\n",
       "    .dataframe thead th {\n",
       "        text-align: right;\n",
       "    }\n",
       "</style>\n",
       "<table border=\"1\" class=\"dataframe\">\n",
       "  <thead>\n",
       "    <tr style=\"text-align: right;\">\n",
       "      <th></th>\n",
       "      <th>country</th>\n",
       "      <th>year</th>\n",
       "      <th>elec_prod_from_renewable_energy</th>\n",
       "    </tr>\n",
       "  </thead>\n",
       "  <tbody>\n",
       "    <tr>\n",
       "      <th>40</th>\n",
       "      <td>European Union</td>\n",
       "      <td>1975</td>\n",
       "      <td>0.558944</td>\n",
       "    </tr>\n",
       "    <tr>\n",
       "      <th>39</th>\n",
       "      <td>European Union</td>\n",
       "      <td>1976</td>\n",
       "      <td>0.513907</td>\n",
       "    </tr>\n",
       "    <tr>\n",
       "      <th>38</th>\n",
       "      <td>European Union</td>\n",
       "      <td>1977</td>\n",
       "      <td>0.519714</td>\n",
       "    </tr>\n",
       "    <tr>\n",
       "      <th>37</th>\n",
       "      <td>European Union</td>\n",
       "      <td>1978</td>\n",
       "      <td>0.522394</td>\n",
       "    </tr>\n",
       "    <tr>\n",
       "      <th>36</th>\n",
       "      <td>European Union</td>\n",
       "      <td>1979</td>\n",
       "      <td>0.507560</td>\n",
       "    </tr>\n",
       "    <tr>\n",
       "      <th>...</th>\n",
       "      <td>...</td>\n",
       "      <td>...</td>\n",
       "      <td>...</td>\n",
       "    </tr>\n",
       "    <tr>\n",
       "      <th>86</th>\n",
       "      <td>Sub-Saharan Africa (excluding high income)</td>\n",
       "      <td>2011</td>\n",
       "      <td>0.670913</td>\n",
       "    </tr>\n",
       "    <tr>\n",
       "      <th>85</th>\n",
       "      <td>Sub-Saharan Africa (excluding high income)</td>\n",
       "      <td>2012</td>\n",
       "      <td>0.730265</td>\n",
       "    </tr>\n",
       "    <tr>\n",
       "      <th>84</th>\n",
       "      <td>Sub-Saharan Africa (excluding high income)</td>\n",
       "      <td>2013</td>\n",
       "      <td>0.856317</td>\n",
       "    </tr>\n",
       "    <tr>\n",
       "      <th>83</th>\n",
       "      <td>Sub-Saharan Africa (excluding high income)</td>\n",
       "      <td>2014</td>\n",
       "      <td>1.701720</td>\n",
       "    </tr>\n",
       "    <tr>\n",
       "      <th>82</th>\n",
       "      <td>Sub-Saharan Africa (excluding high income)</td>\n",
       "      <td>2015</td>\n",
       "      <td>2.389288</td>\n",
       "    </tr>\n",
       "  </tbody>\n",
       "</table>\n",
       "<p>164 rows × 3 columns</p>\n",
       "</div>"
      ],
      "text/plain": [
       "                                       country  year  \\\n",
       "40                              European Union  1975   \n",
       "39                              European Union  1976   \n",
       "38                              European Union  1977   \n",
       "37                              European Union  1978   \n",
       "36                              European Union  1979   \n",
       "..                                         ...   ...   \n",
       "86  Sub-Saharan Africa (excluding high income)  2011   \n",
       "85  Sub-Saharan Africa (excluding high income)  2012   \n",
       "84  Sub-Saharan Africa (excluding high income)  2013   \n",
       "83  Sub-Saharan Africa (excluding high income)  2014   \n",
       "82  Sub-Saharan Africa (excluding high income)  2015   \n",
       "\n",
       "    elec_prod_from_renewable_energy  \n",
       "40                         0.558944  \n",
       "39                         0.513907  \n",
       "38                         0.519714  \n",
       "37                         0.522394  \n",
       "36                         0.507560  \n",
       "..                              ...  \n",
       "86                         0.670913  \n",
       "85                         0.730265  \n",
       "84                         0.856317  \n",
       "83                         1.701720  \n",
       "82                         2.389288  \n",
       "\n",
       "[164 rows x 3 columns]"
      ]
     },
     "execution_count": 51,
     "metadata": {},
     "output_type": "execute_result"
    }
   ],
   "source": [
    "#the code to clean up the dataframe for electricity production from renewable energy\n",
    "from pandas_datareader import wb\n",
    "wb_rnwx = wb.download(indicator='EG.ELC.RNWX.ZS', country=['EUU', 'NAC', 'SSA', 'TLA'], start=1975, end=2015)\n",
    "wb_rnwx = wb_rnwx.rename(columns = {'EG.ELC.RNWX.ZS':'elec_prod_from_renewable_energy'})\n",
    "wb_rnwx = wb_rnwx.reset_index() #reset the index so EUU is first\n",
    "wb_rnwx.year = wb_rnwx.year.astype(int)\n",
    "wb_rnwx.country = wb_rnwx.country.astype('string')\n",
    "wb_rnwx = wb_rnwx.sort_values(['country','year']) #sorts by country and then year\n",
    "wb_rnwx.dropna() #drops all the values that says NaN"
   ]
  },
  {
   "cell_type": "markdown",
   "id": "922652ed-2f36-4b11-a76b-92b4acea56e6",
   "metadata": {},
   "source": [
    "## Summary statistics"
   ]
  },
  {
   "cell_type": "code",
   "execution_count": 3,
   "id": "57c8552c-2752-40e7-a82d-e883db6a7f1b",
   "metadata": {},
   "outputs": [
    {
     "data": {
      "text/html": [
       "<div>\n",
       "<style scoped>\n",
       "    .dataframe tbody tr th:only-of-type {\n",
       "        vertical-align: middle;\n",
       "    }\n",
       "\n",
       "    .dataframe tbody tr th {\n",
       "        vertical-align: top;\n",
       "    }\n",
       "\n",
       "    .dataframe thead th {\n",
       "        text-align: right;\n",
       "    }\n",
       "</style>\n",
       "<table border=\"1\" class=\"dataframe\">\n",
       "  <thead>\n",
       "    <tr style=\"text-align: right;\">\n",
       "      <th></th>\n",
       "      <th>year</th>\n",
       "      <th>elec_prod_from_renewable_energy</th>\n",
       "    </tr>\n",
       "  </thead>\n",
       "  <tbody>\n",
       "    <tr>\n",
       "      <th>count</th>\n",
       "      <td>164.000000</td>\n",
       "      <td>164.000000</td>\n",
       "    </tr>\n",
       "    <tr>\n",
       "      <th>mean</th>\n",
       "      <td>1995.000000</td>\n",
       "      <td>2.191722</td>\n",
       "    </tr>\n",
       "    <tr>\n",
       "      <th>std</th>\n",
       "      <td>11.868399</td>\n",
       "      <td>2.943473</td>\n",
       "    </tr>\n",
       "    <tr>\n",
       "      <th>min</th>\n",
       "      <td>1975.000000</td>\n",
       "      <td>0.118038</td>\n",
       "    </tr>\n",
       "    <tr>\n",
       "      <th>25%</th>\n",
       "      <td>1985.000000</td>\n",
       "      <td>0.464843</td>\n",
       "    </tr>\n",
       "    <tr>\n",
       "      <th>50%</th>\n",
       "      <td>1995.000000</td>\n",
       "      <td>1.380155</td>\n",
       "    </tr>\n",
       "    <tr>\n",
       "      <th>75%</th>\n",
       "      <td>2005.000000</td>\n",
       "      <td>2.505018</td>\n",
       "    </tr>\n",
       "    <tr>\n",
       "      <th>max</th>\n",
       "      <td>2015.000000</td>\n",
       "      <td>18.041960</td>\n",
       "    </tr>\n",
       "  </tbody>\n",
       "</table>\n",
       "</div>"
      ],
      "text/plain": [
       "              year  elec_prod_from_renewable_energy\n",
       "count   164.000000                       164.000000\n",
       "mean   1995.000000                         2.191722\n",
       "std      11.868399                         2.943473\n",
       "min    1975.000000                         0.118038\n",
       "25%    1985.000000                         0.464843\n",
       "50%    1995.000000                         1.380155\n",
       "75%    2005.000000                         2.505018\n",
       "max    2015.000000                        18.041960"
      ]
     },
     "execution_count": 3,
     "metadata": {},
     "output_type": "execute_result"
    }
   ],
   "source": [
    "wb_rnwx.describe()"
   ]
  },
  {
   "cell_type": "markdown",
   "id": "1d529c2e-af44-40a9-ad48-63f90d3b8f09",
   "metadata": {},
   "source": [
    "ADD text here"
   ]
  },
  {
   "cell_type": "markdown",
   "id": "f972dd88-6b52-45e4-954d-710d7bd00b3d",
   "metadata": {},
   "source": [
    "## The Figure for Renewable Energy"
   ]
  },
  {
   "cell_type": "code",
   "execution_count": 4,
   "id": "7022bf19-6c52-403a-85c7-0126fab72c1f",
   "metadata": {},
   "outputs": [],
   "source": [
    "import ipywidgets as widgets\n",
    "def plot_wb(wb_rnwx, country): \n",
    "    I = wb_rnwx['country'] == country\n",
    "    ax = wb_rnwx.loc[I,:].plot(x='year', y='elec_prod_from_renewable_energy', style='-o', legend=False)\n",
    "    ax.set_ylabel('% of total')\n",
    "    ax.set_title('Figure 2.1:' ' ' 'Electricity production from renewable energy') \n",
    "    ax.set_xlim(1975, 2015)"
   ]
  },
  {
   "cell_type": "code",
   "execution_count": 5,
   "id": "ea0a8daf-a0fe-46bf-bb6c-fe7494bf4b35",
   "metadata": {},
   "outputs": [
    {
     "data": {
      "application/vnd.jupyter.widget-view+json": {
       "model_id": "353dba971e894f4b94ef58779a8c3a25",
       "version_major": 2,
       "version_minor": 0
      },
      "text/plain": [
       "interactive(children=(Dropdown(description='Country', options=('European Union', 'Latin America & the Caribbea…"
      ]
     },
     "metadata": {},
     "output_type": "display_data"
    }
   ],
   "source": [
    "widgets.interact(plot_wb, \n",
    "    wb_rnwx = widgets.fixed(wb_rnwx),\n",
    "    country = widgets.Dropdown(description='Country', \n",
    "                                    options=wb_rnwx.country.unique(), \n",
    "                                    value='European Union')\n",
    "); "
   ]
  },
  {
   "cell_type": "markdown",
   "id": "30cf1d8b-1e4a-4343-92ce-0aac3b078911",
   "metadata": {},
   "source": [
    "In figure 2.1 we see an increase in electricity production for the European Union and North America by respectively 17, ADD text here"
   ]
  },
  {
   "cell_type": "markdown",
   "id": "8777f4f0-6550-4cba-a77e-13f1720d7095",
   "metadata": {},
   "source": [
    "# Electricity Production from Nuclear Energy (as % of total)"
   ]
  },
  {
   "cell_type": "markdown",
   "id": "d2ad4c6f-f49d-4588-8c4d-6e2bfa17e096",
   "metadata": {},
   "source": [
    "## Importing and Data Cleaning"
   ]
  },
  {
   "cell_type": "code",
   "execution_count": 50,
   "id": "c54fae37-c712-4b10-a743-bf55f510202d",
   "metadata": {},
   "outputs": [
    {
     "name": "stderr",
     "output_type": "stream",
     "text": [
      "/Users/lucasbillot/opt/anaconda3/lib/python3.9/site-packages/pandas_datareader/wb.py:592: UserWarning: Non-standard ISO country codes: EUU, NAC, SSA, TLA\n",
      "  warnings.warn(\n"
     ]
    },
    {
     "data": {
      "text/html": [
       "<div>\n",
       "<style scoped>\n",
       "    .dataframe tbody tr th:only-of-type {\n",
       "        vertical-align: middle;\n",
       "    }\n",
       "\n",
       "    .dataframe tbody tr th {\n",
       "        vertical-align: top;\n",
       "    }\n",
       "\n",
       "    .dataframe thead th {\n",
       "        text-align: right;\n",
       "    }\n",
       "</style>\n",
       "<table border=\"1\" class=\"dataframe\">\n",
       "  <thead>\n",
       "    <tr style=\"text-align: right;\">\n",
       "      <th></th>\n",
       "      <th>country</th>\n",
       "      <th>year</th>\n",
       "      <th>elec_prod_from_nuclear_energy</th>\n",
       "    </tr>\n",
       "  </thead>\n",
       "  <tbody>\n",
       "    <tr>\n",
       "      <th>40</th>\n",
       "      <td>European Union</td>\n",
       "      <td>1975</td>\n",
       "      <td>5.654875</td>\n",
       "    </tr>\n",
       "    <tr>\n",
       "      <th>39</th>\n",
       "      <td>European Union</td>\n",
       "      <td>1976</td>\n",
       "      <td>6.064906</td>\n",
       "    </tr>\n",
       "    <tr>\n",
       "      <th>38</th>\n",
       "      <td>European Union</td>\n",
       "      <td>1977</td>\n",
       "      <td>7.241884</td>\n",
       "    </tr>\n",
       "    <tr>\n",
       "      <th>37</th>\n",
       "      <td>European Union</td>\n",
       "      <td>1978</td>\n",
       "      <td>8.233095</td>\n",
       "    </tr>\n",
       "    <tr>\n",
       "      <th>36</th>\n",
       "      <td>European Union</td>\n",
       "      <td>1979</td>\n",
       "      <td>8.863022</td>\n",
       "    </tr>\n",
       "    <tr>\n",
       "      <th>...</th>\n",
       "      <td>...</td>\n",
       "      <td>...</td>\n",
       "      <td>...</td>\n",
       "    </tr>\n",
       "    <tr>\n",
       "      <th>87</th>\n",
       "      <td>Sub-Saharan Africa (excluding high income)</td>\n",
       "      <td>2010</td>\n",
       "      <td>2.794873</td>\n",
       "    </tr>\n",
       "    <tr>\n",
       "      <th>86</th>\n",
       "      <td>Sub-Saharan Africa (excluding high income)</td>\n",
       "      <td>2011</td>\n",
       "      <td>3.038803</td>\n",
       "    </tr>\n",
       "    <tr>\n",
       "      <th>85</th>\n",
       "      <td>Sub-Saharan Africa (excluding high income)</td>\n",
       "      <td>2012</td>\n",
       "      <td>2.682724</td>\n",
       "    </tr>\n",
       "    <tr>\n",
       "      <th>84</th>\n",
       "      <td>Sub-Saharan Africa (excluding high income)</td>\n",
       "      <td>2013</td>\n",
       "      <td>3.104398</td>\n",
       "    </tr>\n",
       "    <tr>\n",
       "      <th>83</th>\n",
       "      <td>Sub-Saharan Africa (excluding high income)</td>\n",
       "      <td>2014</td>\n",
       "      <td>2.963829</td>\n",
       "    </tr>\n",
       "  </tbody>\n",
       "</table>\n",
       "<p>163 rows × 3 columns</p>\n",
       "</div>"
      ],
      "text/plain": [
       "                                       country  year  \\\n",
       "40                              European Union  1975   \n",
       "39                              European Union  1976   \n",
       "38                              European Union  1977   \n",
       "37                              European Union  1978   \n",
       "36                              European Union  1979   \n",
       "..                                         ...   ...   \n",
       "87  Sub-Saharan Africa (excluding high income)  2010   \n",
       "86  Sub-Saharan Africa (excluding high income)  2011   \n",
       "85  Sub-Saharan Africa (excluding high income)  2012   \n",
       "84  Sub-Saharan Africa (excluding high income)  2013   \n",
       "83  Sub-Saharan Africa (excluding high income)  2014   \n",
       "\n",
       "    elec_prod_from_nuclear_energy  \n",
       "40                       5.654875  \n",
       "39                       6.064906  \n",
       "38                       7.241884  \n",
       "37                       8.233095  \n",
       "36                       8.863022  \n",
       "..                            ...  \n",
       "87                       2.794873  \n",
       "86                       3.038803  \n",
       "85                       2.682724  \n",
       "84                       3.104398  \n",
       "83                       2.963829  \n",
       "\n",
       "[163 rows x 3 columns]"
      ]
     },
     "execution_count": 50,
     "metadata": {},
     "output_type": "execute_result"
    }
   ],
   "source": [
    "#this time the code is for electricity production from nuclear energy\n",
    "from pandas_datareader import wb\n",
    "wb_nucl = wb.download(indicator='EG.ELC.NUCL.ZS', country=['EUU', 'NAC', 'SSA', 'TLA'], start=1975, end=2015)\n",
    "wb_nucl = wb_nucl.rename(columns = {'EG.ELC.NUCL.ZS':'elec_prod_from_nuclear_energy'})\n",
    "wb_nucl = wb_nucl.reset_index()\n",
    "wb_nucl.year = wb_nucl.year.astype(int)\n",
    "wb_nucl.country = wb_nucl.country.astype('string')\n",
    "wb_nucl = wb_nucl.sort_values(['country','year'])\n",
    "wb_nucl.dropna()"
   ]
  },
  {
   "cell_type": "markdown",
   "id": "c8be8a8f-597b-4f09-8537-648c7e31a8bc",
   "metadata": {},
   "source": [
    "## Summary statistics"
   ]
  },
  {
   "cell_type": "code",
   "execution_count": 7,
   "id": "e0f65ab1-a6f4-4715-a1c6-6bb1f9885043",
   "metadata": {},
   "outputs": [
    {
     "data": {
      "text/html": [
       "<div>\n",
       "<style scoped>\n",
       "    .dataframe tbody tr th:only-of-type {\n",
       "        vertical-align: middle;\n",
       "    }\n",
       "\n",
       "    .dataframe tbody tr th {\n",
       "        vertical-align: top;\n",
       "    }\n",
       "\n",
       "    .dataframe thead th {\n",
       "        text-align: right;\n",
       "    }\n",
       "</style>\n",
       "<table border=\"1\" class=\"dataframe\">\n",
       "  <thead>\n",
       "    <tr style=\"text-align: right;\">\n",
       "      <th></th>\n",
       "      <th>year</th>\n",
       "      <th>elec_prod_from_nuclear_energy</th>\n",
       "    </tr>\n",
       "  </thead>\n",
       "  <tbody>\n",
       "    <tr>\n",
       "      <th>count</th>\n",
       "      <td>164.000000</td>\n",
       "      <td>163.000000</td>\n",
       "    </tr>\n",
       "    <tr>\n",
       "      <th>mean</th>\n",
       "      <td>1995.000000</td>\n",
       "      <td>11.958706</td>\n",
       "    </tr>\n",
       "    <tr>\n",
       "      <th>std</th>\n",
       "      <td>11.868399</td>\n",
       "      <td>11.363315</td>\n",
       "    </tr>\n",
       "    <tr>\n",
       "      <th>min</th>\n",
       "      <td>1975.000000</td>\n",
       "      <td>0.000000</td>\n",
       "    </tr>\n",
       "    <tr>\n",
       "      <th>25%</th>\n",
       "      <td>1985.000000</td>\n",
       "      <td>2.407216</td>\n",
       "    </tr>\n",
       "    <tr>\n",
       "      <th>50%</th>\n",
       "      <td>1995.000000</td>\n",
       "      <td>5.654875</td>\n",
       "    </tr>\n",
       "    <tr>\n",
       "      <th>75%</th>\n",
       "      <td>2005.000000</td>\n",
       "      <td>19.017553</td>\n",
       "    </tr>\n",
       "    <tr>\n",
       "      <th>max</th>\n",
       "      <td>2015.000000</td>\n",
       "      <td>33.812418</td>\n",
       "    </tr>\n",
       "  </tbody>\n",
       "</table>\n",
       "</div>"
      ],
      "text/plain": [
       "              year  elec_prod_from_nuclear_energy\n",
       "count   164.000000                     163.000000\n",
       "mean   1995.000000                      11.958706\n",
       "std      11.868399                      11.363315\n",
       "min    1975.000000                       0.000000\n",
       "25%    1985.000000                       2.407216\n",
       "50%    1995.000000                       5.654875\n",
       "75%    2005.000000                      19.017553\n",
       "max    2015.000000                      33.812418"
      ]
     },
     "execution_count": 7,
     "metadata": {},
     "output_type": "execute_result"
    }
   ],
   "source": [
    "wb_nucl.describe()"
   ]
  },
  {
   "cell_type": "markdown",
   "id": "03173f92-778b-4f23-8235-14a240f433dc",
   "metadata": {},
   "source": [
    "ADD text here"
   ]
  },
  {
   "cell_type": "markdown",
   "id": "5508e02e-2935-418d-ab1e-fcd6c2251e78",
   "metadata": {},
   "source": [
    "## The Figure for Nuclear Energy"
   ]
  },
  {
   "cell_type": "code",
   "execution_count": 8,
   "id": "aca5ea68-3962-42ce-b4dc-eaac572ae9f3",
   "metadata": {},
   "outputs": [],
   "source": [
    "#We make the figures interactive\n",
    "import ipywidgets as widgets\n",
    "def plot_wb(wb_nucl, country): \n",
    "    I = wb_nucl['country'] == country\n",
    "    ax=wb_nucl.loc[I,:].plot(x='year', y='elec_prod_from_nuclear_energy', style='-o', legend=False)\n",
    "    ax.set_ylabel('% of total')\n",
    "    ax.set_title('Figure 3.1:' ' ' 'Electricity production from nuclear energy') \n",
    "    ax.set_xlim(1975, 2015)"
   ]
  },
  {
   "cell_type": "code",
   "execution_count": 9,
   "id": "7b47e1f6-014b-4d90-a3a9-95874b26094f",
   "metadata": {},
   "outputs": [
    {
     "data": {
      "application/vnd.jupyter.widget-view+json": {
       "model_id": "306f9a53ef4c4670a3aba6c4dbdaaba9",
       "version_major": 2,
       "version_minor": 0
      },
      "text/plain": [
       "interactive(children=(Dropdown(description='Country', options=('European Union', 'Latin America & the Caribbea…"
      ]
     },
     "metadata": {},
     "output_type": "display_data"
    }
   ],
   "source": [
    "widgets.interact(plot_wb, \n",
    "    wb_nucl = widgets.fixed(wb_nucl),\n",
    "    country = widgets.Dropdown(description='Country', \n",
    "                                    options=wb_nucl.country.unique(), \n",
    "                                    value='European Union')\n",
    "); "
   ]
  },
  {
   "cell_type": "markdown",
   "id": "0d63d78e-68e6-49cb-af63-2f0ebe1b866d",
   "metadata": {},
   "source": [
    "ADD text here"
   ]
  },
  {
   "cell_type": "markdown",
   "id": "518f951f-c94a-496a-80ae-1cd0f4df8c66",
   "metadata": {},
   "source": [
    "# Electricity Production from Fossil Fuels (as % of total)"
   ]
  },
  {
   "cell_type": "markdown",
   "id": "7268cc66-a2ec-40dc-9ae6-b977493e8f52",
   "metadata": {},
   "source": [
    "## Importing and Data Cleaning"
   ]
  },
  {
   "cell_type": "code",
   "execution_count": 46,
   "id": "e7fd9476-1ccd-4813-9574-fae9442df2c3",
   "metadata": {},
   "outputs": [],
   "source": [
    "# load wb data for energy production from fossil fuels 1975-2015\n",
    "wb_fosl = wb.download(indicator='EG.ELC.FOSL.ZS', country=['EUU','NAC','SSA','TLA'], start=1975, end=2015)\n",
    "wb_fosl = wb_fosl.rename(columns = {'EG.ELC.FOSL.ZS':'fosl'})\n",
    "wb_fosl.reset_index(inplace = True)\n",
    "wb_fosl.year = wb_fosl.year.astype(int)\n",
    "wb_fosl.country = wb_fosl.country.astype(str)\n",
    "wb_fosl = wb_fosl.sort_values(['country', 'year'])\n",
    "wb_fosl.dropna() #drop all missing values\n",
    "wb_fosl.reset_index(inplace=True, drop=True)"
   ]
  },
  {
   "cell_type": "markdown",
   "id": "d8a4fc24-a756-45c5-bd98-4218975bbf17",
   "metadata": {},
   "source": [
    "## Summary Statistics"
   ]
  },
  {
   "cell_type": "code",
   "execution_count": 11,
   "id": "0dce474b-3308-45e2-962b-ffb824c37195",
   "metadata": {},
   "outputs": [
    {
     "data": {
      "text/html": [
       "<div>\n",
       "<style scoped>\n",
       "    .dataframe tbody tr th:only-of-type {\n",
       "        vertical-align: middle;\n",
       "    }\n",
       "\n",
       "    .dataframe tbody tr th {\n",
       "        vertical-align: top;\n",
       "    }\n",
       "\n",
       "    .dataframe thead th {\n",
       "        text-align: right;\n",
       "    }\n",
       "</style>\n",
       "<table border=\"1\" class=\"dataframe\">\n",
       "  <thead>\n",
       "    <tr style=\"text-align: right;\">\n",
       "      <th></th>\n",
       "      <th>year</th>\n",
       "      <th>fosl</th>\n",
       "    </tr>\n",
       "  </thead>\n",
       "  <tbody>\n",
       "    <tr>\n",
       "      <th>count</th>\n",
       "      <td>164.000000</td>\n",
       "      <td>164.000000</td>\n",
       "    </tr>\n",
       "    <tr>\n",
       "      <th>mean</th>\n",
       "      <td>1995.000000</td>\n",
       "      <td>55.691065</td>\n",
       "    </tr>\n",
       "    <tr>\n",
       "      <th>std</th>\n",
       "      <td>11.868399</td>\n",
       "      <td>13.805352</td>\n",
       "    </tr>\n",
       "    <tr>\n",
       "      <th>min</th>\n",
       "      <td>1975.000000</td>\n",
       "      <td>28.929759</td>\n",
       "    </tr>\n",
       "    <tr>\n",
       "      <th>25%</th>\n",
       "      <td>1985.000000</td>\n",
       "      <td>42.746090</td>\n",
       "    </tr>\n",
       "    <tr>\n",
       "      <th>50%</th>\n",
       "      <td>1995.000000</td>\n",
       "      <td>62.811625</td>\n",
       "    </tr>\n",
       "    <tr>\n",
       "      <th>75%</th>\n",
       "      <td>2005.000000</td>\n",
       "      <td>67.294690</td>\n",
       "    </tr>\n",
       "    <tr>\n",
       "      <th>max</th>\n",
       "      <td>2015.000000</td>\n",
       "      <td>74.799558</td>\n",
       "    </tr>\n",
       "  </tbody>\n",
       "</table>\n",
       "</div>"
      ],
      "text/plain": [
       "              year        fosl\n",
       "count   164.000000  164.000000\n",
       "mean   1995.000000   55.691065\n",
       "std      11.868399   13.805352\n",
       "min    1975.000000   28.929759\n",
       "25%    1985.000000   42.746090\n",
       "50%    1995.000000   62.811625\n",
       "75%    2005.000000   67.294690\n",
       "max    2015.000000   74.799558"
      ]
     },
     "execution_count": 11,
     "metadata": {},
     "output_type": "execute_result"
    }
   ],
   "source": [
    "wb_fosl.describe()"
   ]
  },
  {
   "cell_type": "markdown",
   "id": "d27ed39c-5601-4624-b3ab-ac4a328e4db0",
   "metadata": {},
   "source": [
    "ADD text here"
   ]
  },
  {
   "cell_type": "markdown",
   "id": "ac628db2-41dd-4792-be5f-c1f36b74c80c",
   "metadata": {},
   "source": [
    "## Figure for Fossil Fuels"
   ]
  },
  {
   "cell_type": "code",
   "execution_count": 12,
   "id": "063a78d1-e502-423f-bc12-d75743b4c4c1",
   "metadata": {},
   "outputs": [],
   "source": [
    "import ipywidgets as widgets\n",
    "def plot_wb(wb_fosl, country): \n",
    "    I = wb_fosl['country'] == country\n",
    "    ax=wb_fosl.loc[I,:].plot(x='year', y='fosl', style='-o', legend=False)\n",
    "    ax.set_ylabel('% of total')\n",
    "    ax.set_title('Energy production from fossil fuels 1975-2015')"
   ]
  },
  {
   "cell_type": "code",
   "execution_count": 13,
   "id": "d1233b6c-7b4e-4374-a3c9-ef759e9fe9f8",
   "metadata": {},
   "outputs": [
    {
     "data": {
      "application/vnd.jupyter.widget-view+json": {
       "model_id": "8e154e5c80114bdc84464ca6e08f4735",
       "version_major": 2,
       "version_minor": 0
      },
      "text/plain": [
       "interactive(children=(Dropdown(description='Country', options=('European Union', 'Latin America & the Caribbea…"
      ]
     },
     "metadata": {},
     "output_type": "display_data"
    }
   ],
   "source": [
    "widgets.interact(plot_wb, \n",
    "    wb_fosl = widgets.fixed(wb_fosl),\n",
    "    country = widgets.Dropdown(description='Country', \n",
    "                                    options=wb_fosl.country.unique(), \n",
    "                                    value='European Union')\n",
    ");"
   ]
  },
  {
   "cell_type": "markdown",
   "id": "98f93c57-22ab-4c18-a0ab-6a8f7d1b7d56",
   "metadata": {},
   "source": [
    "ADD text here"
   ]
  },
  {
   "cell_type": "markdown",
   "id": "2f3bb6e2-d975-42e9-8e6f-1d03e816293d",
   "metadata": {},
   "source": [
    "# Merging of the Datasets to Calculate the %-point Difference in Production"
   ]
  },
  {
   "cell_type": "code",
   "execution_count": 23,
   "id": "c703f640-5c37-472d-95b4-4907e958a8ed",
   "metadata": {},
   "outputs": [],
   "source": [
    "#We make a copy of the above datasets just in case, and then we merge, first for nuclear- and renewable energy\n",
    "wb_nucl_2 = wb_nucl.copy()\n",
    "wb_rnwx_2 = wb_rnwx.copy()\n",
    "wb = pd.merge(wb_nucl_2, wb_rnwx_2, on=['country', 'year'], how='left')\n",
    "wb.rename(columns={'elec_prod_from_nuclear_energy':'e'}, inplace=True)\n",
    "wb.rename(columns={'elec_prod_from_renewable_energy':'r'}, inplace=True)"
   ]
  },
  {
   "cell_type": "code",
   "execution_count": 27,
   "id": "3ba42776-0ef8-4de3-9229-85ef1991a0aa",
   "metadata": {},
   "outputs": [],
   "source": [
    "#Then we merge for renewable energy and fossil fuels\n",
    "wb_fosl_2 = wb_fosl.copy()\n",
    "wb2 = pd.merge(wb_fosl_2, wb_rnwx_2, on=['country', 'year'], how='left')\n",
    "wb2.dropna()\n",
    "wb2.rename(columns={'fosl':'f'}, inplace=True)\n",
    "wb2.rename(columns={'elec_prod_from_renewable_energy':'re'}, inplace=True)"
   ]
  },
  {
   "cell_type": "markdown",
   "id": "1b9ad481-b075-4fc1-9acb-18d9939a0402",
   "metadata": {
    "tags": []
   },
   "source": [
    "## The Calculation"
   ]
  },
  {
   "cell_type": "code",
   "execution_count": 34,
   "id": "90c466c0-a175-4686-b909-db18238acb8c",
   "metadata": {},
   "outputs": [],
   "source": [
    "wb['prod_diff'] = wb.e - wb.r #we calculate the difference between the above datasets in percentage-points\n",
    "wb2['prod_diff2'] = wb2.f - wb2.re"
   ]
  },
  {
   "cell_type": "markdown",
   "id": "7a6c1486-ca7f-4573-ae3b-a12932f5b6a8",
   "metadata": {},
   "source": [
    "## The Interactive Figure Showing the %-point Difference"
   ]
  },
  {
   "cell_type": "code",
   "execution_count": 35,
   "id": "a82402c7-dc8f-4d3d-9040-cbadc3e312a2",
   "metadata": {},
   "outputs": [],
   "source": [
    "#Figure showing the %-point difference for renewable- and nuclear energy\n",
    "import ipywidgets as widgets\n",
    "def plot_wb(wb, country): \n",
    "    I = wb['country'] == country\n",
    "    ax = wb.loc[I,:].plot(x='year', y='prod_diff', style='-o', legend=False)\n",
    "    ax.set_ylabel('%-point difference of total production')\n",
    "    ax.set_title('Figure 4.1:' ' ' '%-point difference in electricity production') \n",
    "    ax.set_xlim(1975, 2015)"
   ]
  },
  {
   "cell_type": "code",
   "execution_count": 36,
   "id": "46f76d22-e7f5-4ec1-bd80-c6c410aff610",
   "metadata": {},
   "outputs": [
    {
     "data": {
      "application/vnd.jupyter.widget-view+json": {
       "model_id": "d49451852b08442f95ce8327da39d53a",
       "version_major": 2,
       "version_minor": 0
      },
      "text/plain": [
       "interactive(children=(Dropdown(description='Country', options=('European Union', 'Latin America & the Caribbea…"
      ]
     },
     "metadata": {},
     "output_type": "display_data"
    }
   ],
   "source": [
    "widgets.interact(plot_wb, \n",
    "    wb = widgets.fixed(wb),\n",
    "    country = widgets.Dropdown(description='Country', \n",
    "                                    options=wb.country.unique(), \n",
    "                                    value='European Union')\n",
    "); "
   ]
  },
  {
   "cell_type": "markdown",
   "id": "5b988821-1d65-4339-98cb-9467343b82a2",
   "metadata": {},
   "source": [
    "ADD text here"
   ]
  },
  {
   "cell_type": "code",
   "execution_count": 42,
   "id": "048058b0-4670-4f59-b29d-3b103427221c",
   "metadata": {},
   "outputs": [],
   "source": [
    "#Figure showing the %-point difference between renewable energy and fossil fuels\n",
    "import ipywidgets as widgets\n",
    "def plot_wb(wb2, country): \n",
    "    I = wb2['country'] == country\n",
    "    ax = wb2.loc[I,:].plot(x='year', y='prod_diff2', style='-o', legend=False)\n",
    "    ax.set_ylabel('%-point difference of total energy production')"
   ]
  },
  {
   "cell_type": "code",
   "execution_count": 43,
   "id": "6f3c701e-c985-4e57-bf62-46d5c1006d29",
   "metadata": {},
   "outputs": [
    {
     "data": {
      "application/vnd.jupyter.widget-view+json": {
       "model_id": "241e6a6bccbf484e9d92de1b3efe8fb8",
       "version_major": 2,
       "version_minor": 0
      },
      "text/plain": [
       "interactive(children=(Dropdown(description='Country', options=('European Union', 'Latin America & the Caribbea…"
      ]
     },
     "metadata": {},
     "output_type": "display_data"
    }
   ],
   "source": [
    "widgets.interact(plot_wb, \n",
    "    wb2 = widgets.fixed(wb2),\n",
    "    country = widgets.Dropdown(description='Country', \n",
    "                                    options=wb2.country.unique(), \n",
    "                                    value='European Union')\n",
    "); "
   ]
  },
  {
   "cell_type": "markdown",
   "id": "36ff047e-085d-4576-8da9-acd3c58152e1",
   "metadata": {},
   "source": [
    "ADD text here"
   ]
  },
  {
   "cell_type": "markdown",
   "id": "2b013d25-d629-4743-af37-fee7d4369d16",
   "metadata": {},
   "source": [
    "# Electricity Production from Renewable Energy (in kwh)"
   ]
  },
  {
   "cell_type": "markdown",
   "id": "d3141336-4f9e-4f67-b85d-6871674917c0",
   "metadata": {},
   "source": [
    "## Importing and Data Cleaning"
   ]
  },
  {
   "cell_type": "code",
   "execution_count": 44,
   "id": "e3f400d5-7016-4900-9154-97d25605a4a5",
   "metadata": {},
   "outputs": [
    {
     "name": "stderr",
     "output_type": "stream",
     "text": [
      "/Users/lucasbillot/opt/anaconda3/lib/python3.9/site-packages/pandas_datareader/wb.py:592: UserWarning: Non-standard ISO country codes: EUU, NAC, SSA, TLA\n",
      "  warnings.warn(\n"
     ]
    }
   ],
   "source": [
    "#here the dataset is elecetricity production from renewable energy, but this time in kwh\n",
    "from pandas_datareader import wb\n",
    "wb_rnwx_kwh = wb.download(indicator='EG.ELC.RNWX.KH', country=['EUU', 'NAC', 'SSA', 'TLA'], start=1975, end=2015)\n",
    "#wb_rnwx_kwh = wb_rnwx_kwh.rename(columns = {'EG.ELC.RNWX.KH':'elec_prod_from_renewable_energy_in_kwh'})\n",
    "wb_rnwx_kwh = wb_rnwx_kwh.reset_index()\n",
    "wb_rnwx_kwh.year = wb_rnwx_kwh.year.astype(int)\n",
    "wb_rnwx_kwh.country = wb_rnwx_kwh.country.astype('string')\n",
    "wb_rnwx_kwh = wb_rnwx_kwh.sort_values(['country','year'])\n",
    "wb_rnwx_kwh.dropna()\n",
    "wb_rnwx_kwh.rename(columns={'EG.ELC.RNWX.KH':'e_in_kwh'}, inplace=True) #just for shorter code\n",
    "wb_rnwx_kwh['e_in_kwh_thousand'] = wb_rnwx_kwh['e_in_kwh']/1000000 #again because it's easier to read in the graph"
   ]
  },
  {
   "cell_type": "markdown",
   "id": "86a14215-b46a-455c-b301-270a7307a47c",
   "metadata": {},
   "source": [
    "## Split-apply-combine"
   ]
  },
  {
   "cell_type": "code",
   "execution_count": 45,
   "id": "a892d4be-b0c2-4caa-b585-d41504b9c435",
   "metadata": {},
   "outputs": [],
   "source": [
    "#now we to the split-apply-combine on the above datasets\n",
    "wb_rnwx_kwh_ = wb_rnwx_kwh.copy()\n",
    "\n",
    "wb_rnwx_kwh_mean = wb_rnwx_kwh_.groupby('country')['e_in_kwh_thousand'].agg('mean') # spliting and apllying in one swoop\n",
    "\n",
    "wb_rnwx_kwh_mean.name = 'wb_rnwx_kwh_mean'\n",
    "wb_rnwx_kwh_ = wb_rnwx_kwh_.set_index('country').join(wb_rnwx_kwh_mean, how='left') # combining\n",
    "wb_rnwx_kwh_['demean'] = wb_rnwx_kwh_.e_in_kwh_thousand - wb_rnwx_kwh_.wb_rnwx_kwh_mean #we calculate the demean"
   ]
  },
  {
   "cell_type": "markdown",
   "id": "8c7c01b8-dda7-4d60-b008-61fa5701d6fe",
   "metadata": {},
   "source": [
    "## The Figures"
   ]
  },
  {
   "cell_type": "markdown",
   "id": "ed82e7ae-4f8a-45be-8345-b3402c2dcbe5",
   "metadata": {},
   "source": [
    "### Electricity Production from Renewable Energy (in kwh)"
   ]
  },
  {
   "cell_type": "code",
   "execution_count": 23,
   "id": "83b73cab-7d76-40f4-8f55-31481eaee4e8",
   "metadata": {},
   "outputs": [
    {
     "data": {
      "text/plain": [
       "Text(0.5, 1.0, 'Figure: 6.3.1: Electricity Production from Renewable Energy (in kwh)')"
      ]
     },
     "execution_count": 23,
     "metadata": {},
     "output_type": "execute_result"
    },
    {
     "data": {
      "image/png": "[encoded data removed]",
      "text/plain": [
       "<Figure size 432x288 with 1 Axes>"
      ]
     },
     "metadata": {},
     "output_type": "display_data"
    }
   ],
   "source": [
    "#we plot the figures from above, but this time not interactively\n",
    "regions = ['European Union','North America','Latin America & the Caribbean (IDA & IBRD countries)', 'Sub-Saharan Africa (excluding high income)']\n",
    "\n",
    "fig = plt.figure()\n",
    "ax = fig.add_subplot(1,1,1)\n",
    "\n",
    "# Here we use the fact that the index has multiple levels (years) for an elegant loop\n",
    "for i in regions:\n",
    "    wb_rnwx_kwh_.xs(i).plot(x='year',y='e_in_kwh_thousand',ax=ax,label=i)\n",
    "\n",
    "ax.legend(frameon=True)\n",
    "ax.set_ylabel('kwh (thousands)')\n",
    "ax.set_xlim(1975, 2015) #removes the space between the border and 2015/1975\n",
    "ax.set_title('Figure: 6.3.1:'' ''Electricity Production from Renewable Energy (in kwh)')"
   ]
  },
  {
   "cell_type": "markdown",
   "id": "0e8bacd3-4d00-44cf-bc57-45b1a05d8c58",
   "metadata": {},
   "source": [
    "### Difference in Electricity Production from Renewable Energy from the Mean Electricity Production"
   ]
  },
  {
   "cell_type": "code",
   "execution_count": 24,
   "id": "6c101a02-a642-43fe-935d-814f13531309",
   "metadata": {},
   "outputs": [
    {
     "data": {
      "text/plain": [
       "Text(0.5, 1.0, 'Figure 6.3.2: Difference in Production from the Mean Value')"
      ]
     },
     "execution_count": 24,
     "metadata": {},
     "output_type": "execute_result"
    },
    {
     "data": {
      "image/png": "[encoded data removed]",
      "text/plain": [
       "<Figure size 432x288 with 1 Axes>"
      ]
     },
     "metadata": {},
     "output_type": "display_data"
    }
   ],
   "source": [
    "regions = ['European Union','North America','Latin America & the Caribbean (IDA & IBRD countries)', 'Sub-Saharan Africa (excluding high income)']\n",
    "\n",
    "fig = plt.figure()\n",
    "ax = fig.add_subplot(1,1,1)\n",
    "\n",
    "# Here we use the fact that the index has multiple levels (years) for an elegant loop\n",
    "for i in regions:\n",
    "    wb_rnwx_kwh_.xs(i).plot(x='year',y='demean',ax=ax,label=i)\n",
    "\n",
    "ax.legend(frameon=True)\n",
    "ax.set_ylabel('differrence to mean (thousands)')\n",
    "ax.set_xlim(1975, 2015)\n",
    "ax.set_title('Figure 6.3.2:' ' ' 'Difference in Production from the Mean Value')"
   ]
  },
  {
   "cell_type": "markdown",
   "id": "9cee5020-ea2c-40bc-b62b-340e5a30a860",
   "metadata": {},
   "source": [
    "ADD text for the two figures here"
   ]
  },
  {
   "cell_type": "markdown",
   "id": "52759567-7141-446e-92b4-56b97b46dd46",
   "metadata": {},
   "source": [
    "ADD concise conclusion"
   ]
  }
 ],
 "metadata": {
  "kernelspec": {
   "display_name": "Python 3 (ipykernel)",
   "language": "python",
   "name": "python3"
  },
  "language_info": {
   "codemirror_mode": {
    "name": "ipython",
    "version": 3
   },
   "file_extension": ".py",
   "mimetype": "text/x-python",
   "name": "python",
   "nbconvert_exporter": "python",
   "pygments_lexer": "ipython3",
   "version": "3.9.7"
  }
 },
 "nbformat": 4,
 "nbformat_minor": 5
}
