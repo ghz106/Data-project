{
 "cells": [
  {
   "cell_type": "code",
   "execution_count": 1,
   "id": "d1de6acf-f3a8-4112-9ff4-20d90971132b",
   "metadata": {},
   "outputs": [
    {
     "name": "stderr",
     "output_type": "stream",
     "text": [
      "/Users/lucasbillot/opt/anaconda3/lib/python3.9/site-packages/pandas_datareader/wb.py:592: UserWarning: Non-standard ISO country codes: EUU, NAC, SSA, TLA\n",
      "  warnings.warn(\n"
     ]
    },
    {
     "data": {
      "text/html": [
       "<div>\n",
       "<style scoped>\n",
       "    .dataframe tbody tr th:only-of-type {\n",
       "        vertical-align: middle;\n",
       "    }\n",
       "\n",
       "    .dataframe tbody tr th {\n",
       "        vertical-align: top;\n",
       "    }\n",
       "\n",
       "    .dataframe thead th {\n",
       "        text-align: right;\n",
       "    }\n",
       "</style>\n",
       "<table border=\"1\" class=\"dataframe\">\n",
       "  <thead>\n",
       "    <tr style=\"text-align: right;\">\n",
       "      <th></th>\n",
       "      <th>country</th>\n",
       "      <th>year</th>\n",
       "      <th>elec_prod_from_renewable_energy</th>\n",
       "    </tr>\n",
       "  </thead>\n",
       "  <tbody>\n",
       "    <tr>\n",
       "      <th>40</th>\n",
       "      <td>European Union</td>\n",
       "      <td>1975</td>\n",
       "      <td>0.558944</td>\n",
       "    </tr>\n",
       "    <tr>\n",
       "      <th>39</th>\n",
       "      <td>European Union</td>\n",
       "      <td>1976</td>\n",
       "      <td>0.513907</td>\n",
       "    </tr>\n",
       "    <tr>\n",
       "      <th>38</th>\n",
       "      <td>European Union</td>\n",
       "      <td>1977</td>\n",
       "      <td>0.519714</td>\n",
       "    </tr>\n",
       "    <tr>\n",
       "      <th>37</th>\n",
       "      <td>European Union</td>\n",
       "      <td>1978</td>\n",
       "      <td>0.522394</td>\n",
       "    </tr>\n",
       "    <tr>\n",
       "      <th>36</th>\n",
       "      <td>European Union</td>\n",
       "      <td>1979</td>\n",
       "      <td>0.507560</td>\n",
       "    </tr>\n",
       "  </tbody>\n",
       "</table>\n",
       "</div>"
      ],
      "text/plain": [
       "           country  year  elec_prod_from_renewable_energy\n",
       "40  European Union  1975                         0.558944\n",
       "39  European Union  1976                         0.513907\n",
       "38  European Union  1977                         0.519714\n",
       "37  European Union  1978                         0.522394\n",
       "36  European Union  1979                         0.507560"
      ]
     },
     "execution_count": 1,
     "metadata": {},
     "output_type": "execute_result"
    }
   ],
   "source": [
    "#importing the modules\n",
    "from pandas_datareader import wb\n",
    "import pandas as pd\n",
    "import numpy as np\n",
    "from IPython.display import display\n",
    "import matplotlib.pyplot as plt\n",
    "import datetime\n",
    "import pydst\n",
    "plt.style.use('seaborn-whitegrid')\n",
    "\n",
    "#the code to clean up the dataframe for electricity prod from renewable energy\n",
    "wb_rnwx = wb.download(indicator='EG.ELC.RNWX.ZS', country=['EUU', 'NAC', 'SSA', 'TLA'], start=1975, end=2015)\n",
    "wb_rnwx = wb_rnwx.rename(columns = {'EG.ELC.RNWX.ZS':'elec_prod_from_renewable_energy'})\n",
    "wb_rnwx = wb_rnwx.reset_index()\n",
    "wb_rnwx.year = wb_rnwx.year.astype(int)\n",
    "wb_rnwx.country = wb_rnwx.country.astype(str)\n",
    "wb_rnwx = wb_rnwx.sort_values(['country','year']) #sorts by country and then year\n",
    "wb_rnwx.dropna() #drops all the values that has no value\n",
    "\n",
    "wb_rnwx.head(5)"
   ]
  },
  {
   "cell_type": "code",
   "execution_count": 2,
   "id": "c54fae37-c712-4b10-a743-bf55f510202d",
   "metadata": {},
   "outputs": [
    {
     "name": "stderr",
     "output_type": "stream",
     "text": [
      "/Users/lucasbillot/opt/anaconda3/lib/python3.9/site-packages/pandas_datareader/wb.py:592: UserWarning: Non-standard ISO country codes: EUU, NAC, SSA, TLA\n",
      "  warnings.warn(\n"
     ]
    },
    {
     "data": {
      "text/html": [
       "<div>\n",
       "<style scoped>\n",
       "    .dataframe tbody tr th:only-of-type {\n",
       "        vertical-align: middle;\n",
       "    }\n",
       "\n",
       "    .dataframe tbody tr th {\n",
       "        vertical-align: top;\n",
       "    }\n",
       "\n",
       "    .dataframe thead th {\n",
       "        text-align: right;\n",
       "    }\n",
       "</style>\n",
       "<table border=\"1\" class=\"dataframe\">\n",
       "  <thead>\n",
       "    <tr style=\"text-align: right;\">\n",
       "      <th></th>\n",
       "      <th>country</th>\n",
       "      <th>year</th>\n",
       "      <th>elec_prod_from_nuclear_energy</th>\n",
       "    </tr>\n",
       "  </thead>\n",
       "  <tbody>\n",
       "    <tr>\n",
       "      <th>40</th>\n",
       "      <td>European Union</td>\n",
       "      <td>1975</td>\n",
       "      <td>5.654875</td>\n",
       "    </tr>\n",
       "    <tr>\n",
       "      <th>39</th>\n",
       "      <td>European Union</td>\n",
       "      <td>1976</td>\n",
       "      <td>6.064906</td>\n",
       "    </tr>\n",
       "    <tr>\n",
       "      <th>38</th>\n",
       "      <td>European Union</td>\n",
       "      <td>1977</td>\n",
       "      <td>7.241884</td>\n",
       "    </tr>\n",
       "    <tr>\n",
       "      <th>37</th>\n",
       "      <td>European Union</td>\n",
       "      <td>1978</td>\n",
       "      <td>8.233095</td>\n",
       "    </tr>\n",
       "    <tr>\n",
       "      <th>36</th>\n",
       "      <td>European Union</td>\n",
       "      <td>1979</td>\n",
       "      <td>8.863022</td>\n",
       "    </tr>\n",
       "  </tbody>\n",
       "</table>\n",
       "</div>"
      ],
      "text/plain": [
       "           country  year  elec_prod_from_nuclear_energy\n",
       "40  European Union  1975                       5.654875\n",
       "39  European Union  1976                       6.064906\n",
       "38  European Union  1977                       7.241884\n",
       "37  European Union  1978                       8.233095\n",
       "36  European Union  1979                       8.863022"
      ]
     },
     "execution_count": 2,
     "metadata": {},
     "output_type": "execute_result"
    }
   ],
   "source": [
    "wb_nucl = wb.download(indicator='EG.ELC.NUCL.ZS', country=['EUU', 'NAC', 'SSA', 'TLA'], start=1975, end=2015)\n",
    "wb_nucl = wb_nucl.rename(columns = {'EG.ELC.NUCL.ZS':'elec_prod_from_nuclear_energy'})\n",
    "wb_nucl = wb_nucl.reset_index()\n",
    "wb_nucl.year = wb_nucl.year.astype(int)\n",
    "wb_nucl.country = wb_nucl.country.astype(str)\n",
    "wb_nucl = wb_nucl.sort_values(['country','year'])\n",
    "wb_nucl.dropna()\n",
    "\n",
    "wb_nucl.head(5)"
   ]
  },
  {
   "cell_type": "code",
   "execution_count": 3,
   "id": "aca5ea68-3962-42ce-b4dc-eaac572ae9f3",
   "metadata": {},
   "outputs": [],
   "source": [
    "import ipywidgets as widgets\n",
    "def plot_wb(wb_nucl, country): \n",
    "    I = wb_nucl['country'] == country\n",
    "    ax=wb_nucl.loc[I,:].plot(x='year', y='elec_prod_from_nuclear_energy', style='-o', legend=False)\n",
    "    ax.set_ylabel('% of total')"
   ]
  },
  {
   "cell_type": "code",
   "execution_count": 4,
   "id": "7b47e1f6-014b-4d90-a3a9-95874b26094f",
   "metadata": {},
   "outputs": [
    {
     "data": {
      "application/vnd.jupyter.widget-view+json": {
       "model_id": "61d0a0a0afda46458c1d20c33695de8a",
       "version_major": 2,
       "version_minor": 0
      },
      "text/plain": [
       "interactive(children=(Dropdown(description='Country', options=('European Union', 'Latin America & the Caribbea…"
      ]
     },
     "metadata": {},
     "output_type": "display_data"
    }
   ],
   "source": [
    "widgets.interact(plot_wb, \n",
    "    wb_nucl = widgets.fixed(wb_nucl),\n",
    "    country = widgets.Dropdown(description='Country', \n",
    "                                    options=wb_nucl.country.unique(), \n",
    "                                    value='European Union')\n",
    "); "
   ]
  },
  {
   "cell_type": "code",
   "execution_count": 5,
   "id": "6bd11afa-9707-42d4-8b52-0ce4fae389c8",
   "metadata": {},
   "outputs": [],
   "source": [
    "import ipywidgets as widgets\n",
    "def plot_wb(wb_rnwx, country): \n",
    "    I = wb_rnwx['country'] == country\n",
    "    ax = wb_rnwx.loc[I,:].plot(x='year', y='elec_prod_from_renewable_energy', style='-o', legend=False)\n",
    "    ax.set_ylabel('% of total')"
   ]
  },
  {
   "cell_type": "code",
   "execution_count": 6,
   "id": "bb09e253-5af7-4a0d-a75e-3df32372279b",
   "metadata": {},
   "outputs": [
    {
     "data": {
      "application/vnd.jupyter.widget-view+json": {
       "model_id": "fae1c07422354f36af230a56f176f783",
       "version_major": 2,
       "version_minor": 0
      },
      "text/plain": [
       "interactive(children=(Dropdown(description='Country', options=('European Union', 'Latin America & the Caribbea…"
      ]
     },
     "metadata": {},
     "output_type": "display_data"
    }
   ],
   "source": [
    "widgets.interact(plot_wb, \n",
    "    wb_rnwx = widgets.fixed(wb_rnwx),\n",
    "    country = widgets.Dropdown(description='Country', \n",
    "                                    options=wb_rnwx.country.unique(), \n",
    "                                    value='European Union')\n",
    "); "
   ]
  },
  {
   "cell_type": "code",
   "execution_count": 7,
   "id": "c703f640-5c37-472d-95b4-4907e958a8ed",
   "metadata": {},
   "outputs": [],
   "source": [
    "wb_nucl.copy()\n",
    "wb_rnwx.copy()\n",
    "wb = pd.merge(wb_nucl, wb_rnwx, on=['country', 'year'], how='left')"
   ]
  },
  {
   "cell_type": "code",
   "execution_count": 8,
   "id": "90c466c0-a175-4686-b909-db18238acb8c",
   "metadata": {},
   "outputs": [],
   "source": [
    "wb['prod_diff'] = wb_nucl.elec_prod_from_nuclear_energy - wb_rnwx.elec_prod_from_renewable_energy"
   ]
  },
  {
   "cell_type": "code",
   "execution_count": 9,
   "id": "a82402c7-dc8f-4d3d-9040-cbadc3e312a2",
   "metadata": {},
   "outputs": [],
   "source": [
    "import ipywidgets as widgets\n",
    "def plot_wb(wb, country): \n",
    "    I = wb['country'] == country\n",
    "    ax = wb.loc[I,:].plot(x='year', y='prod_diff', style='-o', legend=False)\n",
    "    ax.set_ylabel('%-point difference of total production')"
   ]
  },
  {
   "cell_type": "code",
   "execution_count": 10,
   "id": "46f76d22-e7f5-4ec1-bd80-c6c410aff610",
   "metadata": {},
   "outputs": [
    {
     "data": {
      "application/vnd.jupyter.widget-view+json": {
       "model_id": "4f0fc47bcb7c4f059d89e77e9a05f94f",
       "version_major": 2,
       "version_minor": 0
      },
      "text/plain": [
       "interactive(children=(Dropdown(description='Country', options=('European Union', 'Latin America & the Caribbea…"
      ]
     },
     "metadata": {},
     "output_type": "display_data"
    }
   ],
   "source": [
    "widgets.interact(plot_wb, \n",
    "    wb = widgets.fixed(wb),\n",
    "    country = widgets.Dropdown(description='Country', \n",
    "                                    options=wb.country.unique(), \n",
    "                                    value='European Union')\n",
    "); "
   ]
  },
  {
   "cell_type": "code",
   "execution_count": null,
   "id": "e3f400d5-7016-4900-9154-97d25605a4a5",
   "metadata": {},
   "outputs": [],
   "source": []
  }
 ],
 "metadata": {
  "kernelspec": {
   "display_name": "Python 3 (ipykernel)",
   "language": "python",
   "name": "python3"
  },
  "language_info": {
   "codemirror_mode": {
    "name": "ipython",
    "version": 3
   },
   "file_extension": ".py",
   "mimetype": "text/x-python",
   "name": "python",
   "nbconvert_exporter": "python",
   "pygments_lexer": "ipython3",
   "version": "3.9.7"
  }
 },
 "nbformat": 4,
 "nbformat_minor": 5
}
